{
 "cells": [
  {
   "cell_type": "code",
   "execution_count": 2,
   "metadata": {},
   "outputs": [
    {
     "name": "stdout",
     "output_type": "stream",
     "text": [
      "Collecting selenium\n",
      "  Downloading selenium-3.141.0-py2.py3-none-any.whl (904 kB)\n",
      "Requirement already satisfied: urllib3 in c:\\users\\kbs\\anaconda3\\lib\\site-packages (from selenium) (1.25.11)\n",
      "Installing collected packages: selenium\n",
      "Successfully installed selenium-3.141.0\n"
     ]
    }
   ],
   "source": [
    "!pip install selenium"
   ]
  },
  {
   "cell_type": "code",
   "execution_count": 9,
   "metadata": {},
   "outputs": [],
   "source": [
    "from selenium import webdriver\n",
    "\n",
    "driver = webdriver.Chrome('C:\\chrome\\chromedriver.exe')"
   ]
  },
  {
   "cell_type": "code",
   "execution_count": 10,
   "metadata": {},
   "outputs": [],
   "source": [
    "url = 'https://www.naver.com'\n",
    "driver.get(url)"
   ]
  },
  {
   "cell_type": "code",
   "execution_count": 13,
   "metadata": {},
   "outputs": [],
   "source": [
    "html = driver.page_source"
   ]
  },
  {
   "cell_type": "code",
   "execution_count": 14,
   "metadata": {},
   "outputs": [],
   "source": [
    "# 실습용 html 강제주입\n",
    "html = '''\n",
    "<html>\n",
    "    <head>\n",
    "    </head>\n",
    "    <body>\n",
    "        <h1> 우리동네시장</h1>\n",
    "            <div class = 'sale'>\n",
    "                <p id='fruits1' class='fruits'>\n",
    "                    <span class = 'name'> 바나나 </span>\n",
    "                    <span class = 'price'> 3000원 </span>\n",
    "                    <span class = 'inventory'> 500개 </span>\n",
    "                    <span class = 'store'> 가나다상회 </span>\n",
    "                    <a href = 'http://bit.ly/forPlaywithData' > 홈페이지 </a>\n",
    "                </p>\n",
    "            </div>\n",
    "            <div class = 'prepare'>\n",
    "                <p id='fruits2' class='fruits'>\n",
    "                    <span class ='name'> 파인애플 </span>\n",
    "                </p>\n",
    "            </div>\n",
    "    </body>\n",
    "</html>\n",
    "'''"
   ]
  },
  {
   "cell_type": "code",
   "execution_count": 15,
   "metadata": {},
   "outputs": [],
   "source": [
    "from bs4 import BeautifulSoup\n",
    "\n",
    "soup = BeautifulSoup(html, 'html.parser')"
   ]
  },
  {
   "cell_type": "code",
   "execution_count": 21,
   "metadata": {},
   "outputs": [
    {
     "data": {
      "text/plain": [
       "[<span class=\"price\"> 3000원 </span>]"
      ]
     },
     "execution_count": 21,
     "metadata": {},
     "output_type": "execute_result"
    }
   ],
   "source": [
    "tags_span = soup.select('span')\n",
    "tags_p = soup.select('p')\n",
    "ids_fruits1 = soup.select('#fruits1')\n",
    "class_price = soup.select('.price')\n",
    "tags_span_class_price = soup.select('span.price')\n",
    "\n",
    "\n",
    "tags_span\n",
    "tags_p\n",
    "ids_fruits1\n",
    "class_price\n",
    "tags_span_class_price"
   ]
  },
  {
   "cell_type": "code",
   "execution_count": 29,
   "metadata": {},
   "outputs": [
    {
     "name": "stdout",
     "output_type": "stream",
     "text": [
      "[<span class=\"name\"> 바나나 </span>, <span class=\"name\"> 파인애플 </span>]\n",
      "[<span class=\"name\"> 바나나 </span>]\n",
      "[<span class=\"name\"> 바나나 </span>]\n",
      "[<span class=\"name\"> 바나나 </span>]\n",
      "<span class=\"name\"> 바나나 </span>\n",
      "<span class=\"name\"> 바나나 </span>\n",
      "<span class=\"name\"> 파인애플 </span>\n",
      " 홈페이지 \n",
      "http://bit.ly/forPlaywithData\n"
     ]
    }
   ],
   "source": [
    "tags_name = soup.select('span.name')\n",
    "print(tags_name)\n",
    "\n",
    "tags_banana1 = soup.select('#fruits1 > span.name')\n",
    "print(tags_banana1)\n",
    "\n",
    "tags_banana2 = soup.select('div.sale > #fruits1 > span.name')\n",
    "tags_banana3 = soup.select('div.sale span.name')\n",
    "print(tags_banana2)\n",
    "print(tags_banana3)\n",
    "\n",
    "tags = soup.select('span.name')\n",
    "tag_1 = tags[0]\n",
    "print(tag_1)\n",
    "\n",
    "for tag in tags:\n",
    "    print(tag)\n",
    "    \n",
    "tags = soup.select('a')\n",
    "tag = tags[0]\n",
    "content = tag.text\n",
    "print(content)\n",
    "link = tag['href']\n",
    "print(link)"
   ]
  },
  {
   "cell_type": "code",
   "execution_count": 36,
   "metadata": {},
   "outputs": [
    {
     "name": "stdout",
     "output_type": "stream",
     "text": [
      "50\n",
      "<tr class=\"lst50\" data-song-no=\"33239419\" id=\"lst50\">\n",
      "<td><div class=\"wrap t_right\"><input class=\"input_check\" name=\"input_check\" title=\"Celebrity 곡 선택\" type=\"checkbox\" value=\"33239419\"/></div></td>\n",
      "<td><div class=\"wrap t_center\"><span class=\"rank\">1</span><span class=\"none\">위</span></div></td>\n",
      "<!-- 차트순위 추가 -->\n",
      "<td><div class=\"wrap\">\n",
      "<span class=\"rank_wrap\" title=\"순위 동일\">\n",
      "<span class=\"bullet_icons rank_static\"><span class=\"none\">순위 동일</span></span>\n",
      "<span class=\"none\">0</span>\n",
      "</span>\n",
      "</div></td>\n",
      "<td><div class=\"wrap\">\n",
      "<a class=\"image_typeAll\" href=\"javascript:melon.link.goAlbumDetail('10554246');\" title=\"Celebrity\">\n",
      "<img alt=\"Celebrity - 페이지 이동\" height=\"60\" onerror=\"WEBPOCIMG.defaultAlbumImg(this);\" src=\"https://cdnimg.melon.co.kr/cm2/album/images/105/54/246/10554246_20210127150136_500.jpg/melon/resize/120/quality/80/optimize\" width=\"60\"/>\n",
      "<span class=\"bg_album_frame\"></span>\n",
      "</a>\n",
      "</div></td>\n",
      "<td><div class=\"wrap\">\n",
      "<a class=\"btn button_icons type03 song_info\" href=\"javascript:melon.link.goSongDetail('33239419');\" title=\"Celebrity 곡정보\"><span class=\"none\">곡정보</span></a>\n",
      "</div></td>\n",
      "<td><div class=\"wrap\">\n",
      "<div class=\"wrap_song_info\">\n",
      "<div class=\"ellipsis rank01\"><span>\n",
      "<a href=\"javascript:melon.play.playSong('19041201',33239419);\" title=\"Celebrity 재생\">Celebrity</a>\n",
      "</span></div><br/>\n",
      "<div class=\"ellipsis rank02\">\n",
      "<a href=\"javascript:melon.link.goArtistDetail('261143');\" title=\"아이유 - 페이지 이동\">아이유</a><span class=\"checkEllipsis\" style=\"display: none;\"><a href=\"javascript:melon.link.goArtistDetail('261143');\" title=\"아이유 - 페이지 이동\">아이유</a></span>\n",
      "</div>\n",
      "</div>\n",
      "</div></td>\n",
      "<td><div class=\"wrap\">\n",
      "<div class=\"wrap_song_info\">\n",
      "<div class=\"ellipsis rank03\">\n",
      "<a href=\"javascript:melon.link.goAlbumDetail('10554246');\" title=\"Celebrity - 페이지 이동\">Celebrity</a>\n",
      "</div>\n",
      "</div>\n",
      "</div></td>\n",
      "<td><div class=\"wrap\">\n",
      "<button class=\"button_etc like\" data-song-menuid=\"19041201\" data-song-no=\"33239419\" title=\"Celebrity 좋아요\" type=\"button\"><span class=\"odd_span\">좋아요</span>\n",
      "<span class=\"cnt\">\n",
      "<span class=\"none\">총건수</span>\n",
      "202,472</span></button>\n",
      "</div></td>\n",
      "<td><div class=\"wrap t_center\">\n",
      "<button class=\"button_icons play\" onclick=\"melon.play.playSong('19041201',33239419);\" title=\"듣기\" type=\"button\"><span class=\"none\">듣기</span></button>\n",
      "</div></td>\n",
      "<td><div class=\"wrap t_center\">\n",
      "<button class=\"button_icons scrap\" onclick=\"melon.play.addPlayList('33239419');\" title=\"담기\" type=\"button\"><span class=\"none\">담기</span></button>\n",
      "</div></td>\n",
      "<td><div class=\"wrap t_center\">\n",
      "<button class=\"button_icons download\" onclick=\"melon.buy.goBuyProduct('frm', '33239419', '3C0001', '','0', '19041201');\" title=\"다운로드\" type=\"button\"><span class=\"none\">다운로드</span></button>\n",
      "</div></td>\n",
      "<td><div class=\"wrap t_center\">\n",
      "<button class=\"button_icons video\" onclick=\"melon.link.goMvDetail('19041201', '33239419','song');\" title=\"뮤직비디오\" type=\"button\"><span class=\"none\">뮤직비디오</span></button>\n",
      "</div></td>\n",
      "</tr>\n"
     ]
    }
   ],
   "source": [
    "# 멜론차트 분석\n",
    "url = 'http://www.melon.com/chart/day/index.htm'\n",
    "driver.get(url)\n",
    "\n",
    "html = driver.page_source\n",
    "soup = BeautifulSoup(html, 'html.parser')\n",
    "\n",
    "songs = soup.select ('#lst50')\n",
    "print(len(songs))\n",
    "print(songs[0])"
   ]
  },
  {
   "cell_type": "code",
   "execution_count": 47,
   "metadata": {},
   "outputs": [
    {
     "data": {
      "text/plain": [
       "'아이유'"
      ]
     },
     "execution_count": 47,
     "metadata": {},
     "output_type": "execute_result"
    }
   ],
   "source": [
    "song = songs[0]\n",
    "title = song.select('div.ellipsis.rank01 > span > a')[0].text\n",
    "title\n",
    "\n",
    "singer = song.select('div.ellipsis.rank02 > a')[0].text\n",
    "singer"
   ]
  },
  {
   "cell_type": "code",
   "execution_count": 49,
   "metadata": {},
   "outputs": [
    {
     "name": "stdout",
     "output_type": "stream",
     "text": [
      "Celebrity | 아이유\n",
      "밤하늘의 별을(2020) | 경서\n",
      "Dynamite | 방탄소년단\n",
      "VVS (Feat. JUSTHIS) (Prod. GroovyRoom) | 미란이 (Mirani)\n",
      "잠이 오질 않네요 | 장범준\n",
      "Lovesick Girls | BLACKPINK\n",
      "취기를 빌려 (취향저격 그녀 X 산들) | 산들\n",
      "이 밤을 빌려 말해요 (바른연애 길잡이 X 10CM) | 10CM\n",
      "에잇(Prod.&Feat. SUGA of BTS) | 아이유\n",
      "힘든 건 사랑이 아니다 | 임창정\n",
      "오래된 노래 | 스탠딩 에그\n",
      "Blueming | 아이유\n",
      "고백 (바른연애 길잡이 X 허각) | 허각\n",
      "I'm Not Cool | 현아\n",
      "나랑 같이 걸을래 (바른연애 길잡이 X 적재) | 적재\n",
      "내 손을 잡아 | 아이유\n",
      "내일이 오면 (Feat. 기리보이, BIG Naughty (서동현)) | 릴보이 (lIlBOI)\n",
      "Life Goes On | 방탄소년단\n",
      "Savage Love (Laxed - Siren Beat) (BTS Remix) | Jawsh 685\n",
      "흔들리는 꽃들 속에서 네 샴푸향이 느껴진거야 | 장범준\n",
      "내 마음이 움찔했던 순간 (취향저격 그녀 X 규현) | 규현 (KYUHYUN)\n",
      "화(火花) | (여자)아이들\n",
      "밝게 빛나는 별이 되어 비춰줄게 | 송이한\n",
      "사실 나는 (Feat.전건호) | 경서예지\n",
      "어떻게 이별까지 사랑하겠어, 널 사랑하는 거지 | AKMU (악동뮤지션)\n",
      "그날에 나는 맘이 편했을까 | 이예준\n",
      "혼술하고 싶은 밤 | 벤\n",
      "METEOR | 창모 (CHANGMO)\n",
      "어떻게 지내 (Prod. By VAN.C) | 오반 (OVAN)\n",
      "모든 날, 모든 순간 (Every day, Every Moment) | 폴킴\n",
      "How You Like That | BLACKPINK\n",
      "Dolphin | 오마이걸 (OH MY GIRL)\n",
      "When We Disco (Duet with 선미) | 박진영\n",
      "늦은 밤 너의 집 앞 골목길에서 | 노을\n",
      "아로하 | 조정석\n",
      "2002 | Anne-Marie\n",
      "서면역에서 | 순순희\n",
      "마음을 드려요 | 아이유\n",
      "오늘도 빛나는 너에게 (To You My Light) (Feat.이라온) | 마크툽 (MAKTUB)\n",
      "CREDIT (Feat. 염따, 기리보이, Zion.T) | 릴보이 (lIlBOI)\n",
      "작은 것들을 위한 시 (Boy With Luv) (Feat. Halsey) | 방탄소년단\n",
      "Memories | Maroon 5\n",
      "술 한잔 해요 | 경서 (경서예지)\n",
      "시작 | 가호 (Gaho)\n",
      "너의 번호를 누르고 (Prod. 영화처럼) | #안녕\n",
      "거짓말이라도 해서 널 보고싶어 | 백지영\n",
      "Dance Monkey | Tones And I\n",
      "우리 왜 헤어져야 해 | 신예영\n",
      "딩가딩가 (Dingga) | 마마무 (Mamamoo)\n",
      "살짝 설렜어 (Nonstop) | 오마이걸 (OH MY GIRL)\n"
     ]
    }
   ],
   "source": [
    "for song in songs:\n",
    "    title = song.select('div.ellipsis.rank01 > span > a')[0].text\n",
    "    singer = song.select('div.ellipsis.rank02 > a')[0].text\n",
    "    print(title, singer, sep = ' | ')"
   ]
  },
  {
   "cell_type": "code",
   "execution_count": 51,
   "metadata": {},
   "outputs": [
    {
     "name": "stdout",
     "output_type": "stream",
     "text": [
      "Celebrity | 아이유\n",
      "밤하늘의 별을(2020) | 경서\n",
      "Dynamite | 방탄소년단\n",
      "VVS (Feat. JUSTHIS) (Prod. GroovyRoom) | 미란이 (Mirani)\n",
      "잠이 오질 않네요 | 장범준\n",
      "Lovesick Girls | BLACKPINK\n",
      "취기를 빌려 (취향저격 그녀 X 산들) | 산들\n",
      "이 밤을 빌려 말해요 (바른연애 길잡이 X 10CM) | 10CM\n",
      "에잇(Prod.&Feat. SUGA of BTS) | 아이유\n",
      "힘든 건 사랑이 아니다 | 임창정\n",
      "오래된 노래 | 스탠딩 에그\n",
      "Blueming | 아이유\n",
      "고백 (바른연애 길잡이 X 허각) | 허각\n",
      "I'm Not Cool | 현아\n",
      "나랑 같이 걸을래 (바른연애 길잡이 X 적재) | 적재\n",
      "내 손을 잡아 | 아이유\n",
      "내일이 오면 (Feat. 기리보이, BIG Naughty (서동현)) | 릴보이 (lIlBOI)\n",
      "Life Goes On | 방탄소년단\n",
      "Savage Love (Laxed - Siren Beat) (BTS Remix) | Jawsh 685\n",
      "흔들리는 꽃들 속에서 네 샴푸향이 느껴진거야 | 장범준\n",
      "내 마음이 움찔했던 순간 (취향저격 그녀 X 규현) | 규현 (KYUHYUN)\n",
      "화(火花) | (여자)아이들\n",
      "밝게 빛나는 별이 되어 비춰줄게 | 송이한\n",
      "사실 나는 (Feat.전건호) | 경서예지\n",
      "어떻게 이별까지 사랑하겠어, 널 사랑하는 거지 | AKMU (악동뮤지션)\n",
      "그날에 나는 맘이 편했을까 | 이예준\n",
      "혼술하고 싶은 밤 | 벤\n",
      "METEOR | 창모 (CHANGMO)\n",
      "어떻게 지내 (Prod. By VAN.C) | 오반 (OVAN)\n",
      "모든 날, 모든 순간 (Every day, Every Moment) | 폴킴\n",
      "How You Like That | BLACKPINK\n",
      "Dolphin | 오마이걸 (OH MY GIRL)\n",
      "When We Disco (Duet with 선미) | 박진영\n",
      "늦은 밤 너의 집 앞 골목길에서 | 노을\n",
      "아로하 | 조정석\n",
      "2002 | Anne-Marie\n",
      "서면역에서 | 순순희\n",
      "마음을 드려요 | 아이유\n",
      "오늘도 빛나는 너에게 (To You My Light) (Feat.이라온) | 마크툽 (MAKTUB)\n",
      "CREDIT (Feat. 염따, 기리보이, Zion.T) | 릴보이 (lIlBOI)\n",
      "작은 것들을 위한 시 (Boy With Luv) (Feat. Halsey) | 방탄소년단\n",
      "Memories | Maroon 5\n",
      "술 한잔 해요 | 경서 (경서예지)\n",
      "시작 | 가호 (Gaho)\n",
      "너의 번호를 누르고 (Prod. 영화처럼) | #안녕\n",
      "거짓말이라도 해서 널 보고싶어 | 백지영\n",
      "Dance Monkey | Tones And I\n",
      "우리 왜 헤어져야 해 | 신예영\n",
      "딩가딩가 (Dingga) | 마마무 (Mamamoo)\n",
      "살짝 설렜어 (Nonstop) | 오마이걸 (OH MY GIRL)\n"
     ]
    }
   ],
   "source": [
    "songs = driver.find_elements_by_css_selector('#lst50')\n",
    "for song in songs:\n",
    "    title = song.find_elements_by_css_selector('div.ellipsis.rank01 > span > a')[0].text\n",
    "    singer = song.find_elements_by_css_selector('div.ellipsis.rank02 > a')[0].text\n",
    "    print(title, singer, sep = ' | ')"
   ]
  }
 ],
 "metadata": {
  "kernelspec": {
   "display_name": "Python 3",
   "language": "python",
   "name": "python3"
  },
  "language_info": {
   "codemirror_mode": {
    "name": "ipython",
    "version": 3
   },
   "file_extension": ".py",
   "mimetype": "text/x-python",
   "name": "python",
   "nbconvert_exporter": "python",
   "pygments_lexer": "ipython3",
   "version": "3.8.5"
  }
 },
 "nbformat": 4,
 "nbformat_minor": 4
}
