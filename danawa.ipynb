{
 "cells": [
  {
   "cell_type": "code",
   "execution_count": 2,
   "metadata": {},
   "outputs": [],
   "source": [
    "from selenium import webdriver\n",
    "driver = webdriver.Chrome('c:\\chrome\\chromedriver.exe')\n",
    "url = \"http://search.danawa.com/dsearch.php?query=무선청소기&tab=main\"\n",
    "driver.get(url)"
   ]
  },
  {
   "cell_type": "code",
   "execution_count": 6,
   "metadata": {},
   "outputs": [
    {
     "data": {
      "text/plain": [
       "42"
      ]
     },
     "execution_count": 6,
     "metadata": {},
     "output_type": "execute_result"
    }
   ],
   "source": [
    "from bs4 import BeautifulSoup\n",
    "\n",
    "html = driver.page_source\n",
    "soup = BeautifulSoup(html, 'html.parser')\n",
    "\n",
    "prod_items = soup.select('li.prod_item')\n",
    "len(prod_items)"
   ]
  },
  {
   "cell_type": "code",
   "execution_count": 8,
   "metadata": {},
   "outputs": [
    {
     "data": {
      "text/plain": [
       "41"
      ]
     },
     "execution_count": 8,
     "metadata": {},
     "output_type": "execute_result"
    }
   ],
   "source": [
    "prod_items = soup.select('div.main_prodlist > ul.product_list > li.prod_item')\n",
    "len(prod_items)"
   ]
  },
  {
   "cell_type": "code",
   "execution_count": 10,
   "metadata": {},
   "outputs": [
    {
     "name": "stdout",
     "output_type": "stream",
     "text": [
      "LG전자 오브제컬렉션 코드제로 ThinQ A9S AO9571\n"
     ]
    }
   ],
   "source": [
    "# 상품명 가져오기\n",
    "title = prod_items[0].select('p.prod_name > a')[0].text.strip()\n",
    "print(title)"
   ]
  },
  {
   "cell_type": "code",
   "execution_count": 12,
   "metadata": {},
   "outputs": [
    {
     "name": "stdout",
     "output_type": "stream",
     "text": [
      "핸디/스틱청소기 / 핸디+스틱형 / 무선형 / 흡입+걸레겸용 / [성능] 2중터보싸이클론 / 스마트인버터모터 / 흡입력: 210W / 소비전력: 590W / [배터리] 분리형 / 리튬이온 (2개) / 충전시간: 4시간 / 사용시간: 2시간 / [필터] 헤파필터 / 5단계여과 / [기능] 자동물공급 / 배터리잔량표시 / WiFi / [구성품] 바닥 / 물걸레 / 침구 / 솔형 / 틈새 / 거치대 / [부가] 알레르기인증(BAF) / 미세먼지인증(SLG) / 색상: 카밍베이지 / 크기(가로x세로x깊이): 250x1120x260mm\n"
     ]
    }
   ],
   "source": [
    "spec_list = prod_items[0].select('div.spec_list')[0].text.strip()\n",
    "print(spec_list)"
   ]
  },
  {
   "cell_type": "code",
   "execution_count": 14,
   "metadata": {},
   "outputs": [
    {
     "name": "stdout",
     "output_type": "stream",
     "text": [
      "1403950\n"
     ]
    }
   ],
   "source": [
    "price = prod_items[0].select('li.rank_one > p.price_sect > a > strong')[0].text.strip().replace(\",\",\"\")\n",
    "print(price)"
   ]
  },
  {
   "cell_type": "code",
   "execution_count": 16,
   "metadata": {},
   "outputs": [
    {
     "name": "stdout",
     "output_type": "stream",
     "text": [
      "41\n",
      "[['LG전자 오브제컬렉션 코드제로 ThinQ A9S AO9571', '핸디/스틱청소기 / 핸디+스틱형 / 무선형 / 흡입+걸레겸용 / [성능] 2중터보싸이클론 / 스마트인버터모터 / 흡입력: 210W / 소비전력: 590W / [배터리] 분리형 / 리튬이온 (2개) / 충전시간: 4시간 / 사용시간: 2시간 / [필터] 헤파필터 / 5단계여과 / [기능] 자동물공급 / 배터리잔량표시 / WiFi / [구성품] 바닥 / 물걸레 / 침구 / 솔형 / 틈새 / 거치대 / [부가] 알레르기인증(BAF) / 미세먼지인증(SLG) / 색상: 카밍베이지 / 크기(가로x세로x깊이): 250x1120x260mm', '1403950'], ['lDLNJ1qyQh', 'lDLNJ1qyQh87164', '87164'], ['샤오미 미지아 차량용 핸디 무선 청소기 (해외구매)', '차량용청소기 / 무선 / 흡입력: 13,000Pa / 최대출력: 120W / 헤파필터 / 추가노즐: 틈새, 솔브러쉬 / 사용시간: 9~30분 / 버튼 잠금 장치 / 2단 세기 조절 / 크기: 55x267mm / 무게: 500g', '33580'], ['LG전자 코드제로 ThinQ A9S A9700', '핸디/스틱청소기 / 핸디+스틱형 / 무선형 / 흡입+걸레겸용 / [성능] 2중터보싸이클론 / 인버터모터 / 흡입력: 200W / 소비전력: 590W / [배터리] 분리형 / 리튬이온 (2개) / 충전시간: 4시간 / 사용시간: 2시간 / [필터] 헤파필터 / H13급 / 5단계여과 / [기능] 자동물공급 / 디스플레이표시창 / 배터리잔량표시 / WiFi / [구성품] 바닥 / 물걸레 / 침구 / 솔형 / 굳은먼지 / 상부청소 / 틈새 / 긴틈새 / 매트리스 / 연장툴 / 거치대 / [부가] 미세먼지인증(SLG) / 색상: 판타지실버 / 크기(가로x세로x깊이): 250x1120x260mm', '946150'], ['샤오미 CLEANFLY 차량용 무선 청소기 3세대 (해외구매)', '차량용청소기 / 무선 / 흡입력: 16,800Pa / 최대출력: 120W / 헤파필터 / 추가노즐: 틈새, 솔브러쉬, 연장호스 / 사용시간: 25분 / 크기 : 369x72mm / 무게 : 560g', '49900'], ['LG전자 코드제로 A9 A9100S', '핸디/스틱청소기 / 핸디+스틱형 / 무선형 / 흡입+걸레겸용 / [성능] 2중터보싸이클론 / 인버터모터 / 소비전력: 450W / [배터리] 분리형 / 리튬이온 / 충전시간: 3시간30분 / 사용시간: 40분 / [필터] 헤파필터 / H13급 / 5단계여과 / [기능] 배터리잔량표시 / [구성품] 바닥 / 솔형 / 틈새 / 거치대 / [부가] 알레르기인증(BAF) / 미세먼지인증(SLG) / 색상: 판타지실버 / 크기(가로x세로x깊이): 250x1120x260mm', '489060'], ['샤오미 드리미 V10', '핸디/스틱청소기 / 핸디+스틱형 / 무선형 / 흡입전용 / [성능] 멀티싸이클론 / 흡입력: 140AW / 흡입력: 22000Pa / 소비전력: 450W / [배터리] 용량: 2500mAh / 충전시간: 3시간30분 / 사용시간: 1시간 / [필터] 헤파필터 / H12급 / 5단계여과 / [기능] 배터리잔량표시 / [구성품] 바닥 / 침구 / 솔형 / 틈새 / 연장툴 / 거치대 / [부가] 먼지통용량: 0.5L / 색상: 화이트 / 무게: 1.5kg', '146700'], ['다이슨 디지털 슬림 플러피+', '핸디/스틱청소기 / 핸디+스틱형 / 무선형 / 흡입전용 / [성능] 싸이클론 / 흡입력: 100AW / [배터리] 충전시간: 3시간30분 / 사용시간: 40분 / [필터] 5단계여과 / [기능] 디스플레이표시창 / [구성품] 슬림소프트롤러 / 미니모터 / 솔형 / 스터번더트 / 틈새 / 매트리스 / 연장툴 / 거치대 / 도킹스테이션 / [부가] 먼지통용량: 0.3L / 색상: 오렌지 / 무게: 1.9kg / 크기(가로x세로x깊이): 250x1100x250mm', '693000'], ['샤오미 SHUNZAO 차량용 무선청소기 2세대 Z1 PRO (해외구매)', '차량용청소기 / 무선 / 흡입력: 12,000Pa / 최대출력: 120W / 2중필터 / 추가노즐: 틈새, 솔브러쉬 / LED라이트 / 사용시간: 30분 / 충전시간: 2시간30분 / 충전방식: USB C타입 / 크기: 73x76x336mm / 무게: 610g', '42140'], ['LG전자 코드제로 ThinQ A9S A9400', '핸디/스틱청소기 / 핸디+스틱형 / 무선형 / 흡입+걸레겸용 / [성능] 2중터보싸이클론 / 인버터모터 / 흡입력: 200W / 소비전력: 590W / [배터리] 분리형 / 리튬이온 (2개) / 충전시간: 4시간 / 사용시간: 2시간 / [필터] 헤파필터 / H13급 / 5단계여과 / [기능] 디스플레이표시창 / 배터리잔량표시 / WiFi / [구성품] 바닥 / 솔형 / 굳은먼지 / 틈새 / 매트리스 / 거치대 / [부가] 미세먼지인증(SLG) / 색상: 판타지실버 / 크기(가로x세로x깊이): 250x1120x260mm', '682100'], ['삼성전자 제트 VS15R8500BF', '핸디/스틱청소기 / 핸디+스틱형 / 무선형 / 흡입+걸레겸용 / [성능] 싸이클론 / 인버터모터 / 흡입력: 150W / 소비전력: 410W / [배터리] 분리형 / 리튬이온 / 충전시간: 3시간30분 / 사용시간: 40분 / [필터] 헤파필터 / 5단계여과 / [기능] 디스플레이표시창 / 프리볼트 / [구성품] 바닥 / 솔형 / 틈새 / 거치대 / [부가] 먼지통용량: 0.5L / 알레르기인증(BAF) / 미세먼지인증(SLG) / 색상: 틸민트 / 무게: 2.57kg / 크기(가로x세로x깊이): 250x1123x215mm', '391420'], ['다이슨 옴니 글라이드 컴플리트+', '핸디/스틱청소기 / 핸디+스틱형 / 무선형 / 흡입전용 / [성능] 싸이클론 / 흡입력: 50AW / [배터리] 리튬이온 / 충전시간: 3시간30분 / 사용시간: 20분 / [필터] 5단계여과 / [구성품] 전방향플러피 / 미니모터 / 솔형 / 틈새 / 서페이스 / 연장툴 / 거치대 / 도킹스테이션 / [부가] 먼지통용량: 0.2L / 색상: 퍼플 / 무게: 1.9kg / 크기(가로x세로x깊이): 208x1077x92mm', '576600'], ['삼성전자 제트 VS20T9213QDCSP', '핸디/스틱청소기 / 핸디+스틱형 / 무선형 / 흡입+걸레겸용 / [성능] 싸이클론 / 인버터모터 / 흡입력: 200W / 소비전력: 550W / [배터리] 분리형 / 리튬이온 (2개) / 충전시간: 3시간30분 / 사용시간: 1시간 / [필터] 헤파필터 / 5단계여과 / [기능] 디스플레이표시창 / 프리볼트 / [구성품] 바닥 / 솔형 / 틈새 / 거치대 / [부가] 먼지통용량: 0.5L / 알레르기인증(BAF) / 미세먼지인증(SLG) / 색상: 티탄+그레이 / 무게: 2.64kg / 크기(가로x세로x깊이): 250x1123x215mm / [VCA-SAE90A] 청정스테이션 / 색상: 블랙 / 크기(가로x세로x깊이): 185x600x180mm', '773260'], ['삼성전자 제트 VS20T9213QDCSB', '핸디/스틱청소기 / 핸디+스틱형 / 무선형 / 흡입+걸레겸용 / [성능] 싸이클론 / 인버터모터 / 흡입력: 200W / 소비전력: 550W / [배터리] 분리형 / 리튬이온 (2개) / 충전시간: 3시간30분 / 사용시간: 1시간 / [필터] 헤파필터 / 5단계여과 / [기능] 디스플레이표시창 / 프리볼트 / [구성품] 바닥 / 물걸레 / 솔형 / 틈새 / 거치대 / [부가] 먼지통용량: 0.5L / 알레르기인증(BAF) / 미세먼지인증(SLG) / 색상: 티탄+그레이 / 무게: 2.64kg / 크기(가로x세로x깊이): 250x1123x215mm / [VCA-SAE90A] 청정스테이션 / 색상: 블랙 / 크기(가로x세로x깊이): 185x600x180mm', '769050'], ['LG전자 코드제로 ThinQ A9S A9370', '핸디/스틱청소기 / 핸디+스틱형 / 무선형 / 흡입+걸레겸용 / [성능] 2중터보싸이클론 / 인버터모터 / 흡입력: 200W / 소비전력: 590W / [배터리] 분리형 / 리튬이온 / 충전시간: 4시간 / 사용시간: 1시간 / [필터] 헤파필터 / H13급 / 5단계여과 / [기능] 자동물공급 / 디스플레이표시창 / 배터리잔량표시 / WiFi / [구성품] 바닥 / 물걸레 / 솔형 / 틈새 / 거치대 / [부가] 미세먼지인증(SLG) / 색상: 판타지실버 / 크기(가로x세로x깊이): 250x1120x260mm', '749050'], ['일렉트로룩스 WELL Q6 WQ61-1OGG', '핸디/스틱청소기 / 핸디+스틱형 / 무선형 / 흡입전용 / [성능] 싸이클론 / [배터리] 리튬이온 / 충전시간: 4시간30분 / 사용시간: 45분 / [필터] 5단계여과 / [기능] 브러쉬자동청소 / 셀프스탠딩 / LED라이트 / 배터리잔량표시 / [구성품] 바닥 / 솔형 / 틈새 / 거치대 / [부가] 먼지통용량: 0.3L / 색상: 그라나이트그레이 / 무게: 2.65kg / 크기(가로x세로x깊이): 386x692x146mm', '147120'], ['삼성전자 제트 VS20T9258SDCS', '핸디/스틱청소기 / 핸디+스틱형 / 무선형 / 흡입+걸레겸용 / [성능] 싸이클론 / 인버터모터 / 흡입력: 200W / 소비전력: 550W / [배터리] 분리형 / 리튬이온 (2개) / 충전시간: 3시간30분 / 사용시간: 2시간 / [필터] 헤파필터 / 5단계여과 / [기능] 디스플레이표시창 / 프리볼트 / [구성품] 바닥 / 물걸레 / 침구 / 솔형 / 틈새 / 연장툴 / 거치대 / [부가] 먼지통용량: 0.5L / 알레르기인증(BAF) / 미세먼지인증(SLG) / 색상: 티탄+그레이 / 무게: 2.64kg / 크기(가로x세로x깊이): 250x1123x215mm / [VCA-SAE90A] 청정스테이션 / 색상: 블랙 / 크기(가로x세로x깊이): 185x600x180mm', '899000'], ['제이큐 차량용 청소기', '차량용청소기 / 무선 / 흡입력: 6,200Pa / 2중필터 / 헤파필터 / 스테인리스 필터 / 추가노즐: 틈새, 솔브러쉬 / 사용시간: 15분 / 에어컴프 겸용 / 크기: 75x125x75mm / 무게: 637g', '55310'], ['한샘 HSBC-6000W', '욕실청소기 / 스틱형 / 무선형 / 소비전력: 30W / [배터리] 용량: 2000mAh / 충전시간: 4시간 / 사용시간: 1시간40분 / [기능] 프리볼트 / [부가] 색상: 화이트 / 완전방수 / 브러쉬: 평면, 틈새, 스크럽', '53270'], ['베이스어스 차량용 무선 진공 청소기 A2 (해외구매)', '차량용청소기 / 무선 / 흡입력: 5,000Pa / 최대출력: 70W / 헤파필터 / 추가노즐: 솔브러쉬 / 사용시간: 18분 / 색상: 그린, 블랙, 화이트 / 60ml 먼지통 / 배터리 표시등', '19800'], ['샤오미 LYDSTO 핸디형 에어펌프 진공청소기 (해외구매)', '차량용청소기 / 무선 / 흡입력: 10,000Pa / 스테인리스 필터 / LED라이트 / 사용시간: 15~30분 / 충전방식: USB C타입 / 배터리용량: 2,500mAH / 크기: 315x55mm / 무게: 500g / 압력설정 / 최대압력: 150psi / 에어배출량(분당): 10L', '32500'], ['샤오미 드리미 V11', '핸디/스틱청소기 / 핸디+스틱형 / 무선형 / 흡입+걸레겸용 / [성능] 멀티싸이클론 / BLDC모터 / 흡입력: 150AW / 흡입력: 25000Pa / 소비전력: 450W / [배터리] 용량: 3000mAh / 충전시간: 4시간 / 사용시간: 1시간30분 / [필터] 5단계여과 / [기능] 디스플레이표시창 / [구성품] 바닥 / 침구 / 솔형 / 틈새 / 연장툴 / 거치대 / [부가] 먼지통용량: 0.5L / 색상: 레드 / 무게: 1.6kg / 크기(가로x세로): 202x1226mm', '257210'], ['다이슨 V11 220AW 컴플리트', '핸디/스틱청소기 / 핸디+스틱형 / 무선형 / 흡입전용 / [성능] 루트싸이클론 / 흡입력: 220AW / 소비전력: 545W / [배터리] 충전시간: 4시간30분 / 사용시간: 1시간 / [기능] 디스플레이표시창 / [구성품] 하이토크 / 소프트롤러 / 미니모터 / 솔형 / 더스팅 / 스터번더트 / 틈새 / 매트리스 / 거치대 / 도킹스테이션 / [부가] 먼지통용량: 0.54L / 색상: 니켈블루 / 무게: 2.95kg / 크기(가로x세로x깊이): 250x1280x261mm', '888220'], ['휴스톰 HS-9000', '물걸레청소기 / 스틱형 / 회전식 / 무선형 / 충전시간: 4시간 / 사용시간: 30분 / 배터리: 리튬이온 / 용량: 2850mAh / LED라이트 / 가구손상방지 / 각도조절 / 셀프스탠딩 / 무게: 3.6kg / 색상: 블랙 / 모터과열방지 / 과충전방지 / 오토스토핑 / 패드: 극세사(벨크로형) / 크기(가로x세로x깊이): 410x860x256mm', '136780'], ['샤오미 드리미 V9', '핸디/스틱청소기 / 핸디+스틱형 / 무선형 / [성능] 멀티싸이클론 / 흡입력: 120AW / 흡입력: 20000Pa / 소비전력: 400W / [배터리] 용량: 2500mAh / 충전시간: 3시간30분 / 사용시간: 60분 / [필터] 헤파필터 / 5단계여과 / [구성품] 바닥 / 침구 / 솔형 / 틈새 / 연장툴 / 거치대 / [부가] 먼지통용량: 0.5L / 색상: 화이트 / 무게: 1.5kg', '111250'], ['LG전자 코드제로 ThinQ A9S A9500', '핸디/스틱청소기 / 핸디+스틱형 / 무선형 / 흡입+걸레겸용 / [성능] 2중터보싸이클론 / 인버터모터 / 흡입력: 200W / 소비전력: 590W / [배터리] 분리형 / 리튬이온 (2개) / 충전시간: 4시간 / 사용시간: 2시간 / [필터] 헤파필터 / H13급 / 5단계여과 / [기능] 디스플레이표시창 / 배터리잔량표시 / WiFi / [구성품] 바닥 / 침구 / 솔형 / 굳은먼지 / 틈새 / 매트리스 / 거치대 / [부가] 미세먼지인증(SLG) / 색상: 아이언그레이 / 크기(가로x세로x깊이): 250x1120x260mm', '780180'], ['LG전자 코드제로 ThinQ A9S A9300', '핸디/스틱청소기 / 핸디+스틱형 / 무선형 / 흡입+걸레겸용 / [성능] 2중터보싸이클론 / 인버터모터 / 흡입력: 200W / 소비전력: 590W / [배터리] 분리형 / 리튬이온 / 충전시간: 4시간 / 사용시간: 1시간 / [필터] 헤파필터 / H13급 / 5단계여과 / [기능] 디스플레이표시창 / 배터리잔량표시 / WiFi / [구성품] 바닥 / 솔형 / 굳은먼지 / 틈새 / 매트리스 / 거치대 / [부가] 미세먼지인증(SLG) / 색상: 아이언그레이 / 크기(가로x세로x깊이): 250x1120x260mm', '701673'], ['삼성전자 제트 VS20T9213QDCSW', '핸디/스틱청소기 / 핸디+스틱형 / 무선형 / 흡입+걸레겸용 / [성능] 싸이클론 / 인버터모터 / 흡입력: 200W / 소비전력: 550W / [배터리] 리튬이온 / 충전시간: 3시간30분 / 사용시간: 1시간 / [필터] 헤파필터 / 5단계여과 / [기능] 디스플레이표시창 / 프리볼트 / [구성품] 바닥 / 물걸레 / 솔형 / 틈새 / 거치대 / [부가] 먼지통용량: 0.5L / 알레르기인증(BAF) / 미세먼지인증(SLG) / 색상: 티탄+그레이 / 무게: 2.64kg / 크기(가로x세로x깊이): 250x1123x215mm / [VCA-SAE90A] 청정스테이션 / 색상: 블랙 / 크기(가로x세로x깊이): 185x600x180mm', '631720'], ['LG전자 코드제로 ThinQ A9S A9470', '핸디/스틱청소기 / 핸디+스틱형 / 무선형 / 흡입+걸레겸용 / [성능] 2중터보싸이클론 / 인버터모터 / 소비전력: 590W / [배터리] 분리형 / 리튬이온 (2개) / 충전시간: 4시간 / 사용시간: 2시간 / [필터] 헤파필터 / H13급 / 5단계여과 / [기능] 디스플레이표시창 / 배터리잔량표시 / [구성품] 바닥 / 물걸레 / 솔형 / 틈새 / 거치대 / [부가] 미세먼지인증(SLG) / 색상: 판타지실버 / 크기(가로x세로x깊이): 250x1120x260mm', '791990'], ['일렉트로룩스 ZB3302AK', '핸디/스틱청소기 / 핸디+스틱형 / 무선형 / 흡입전용 / [배터리] 리튬이온 / 충전시간: 4시간 / 사용시간: 42분 / [필터] 4단계여과 / [기능] 브러쉬자동청소 / 셀프스탠딩 / LED라이트 / 배터리잔량표시 / [구성품] 바닥 / 침구 / 틈새 / 긴틈새 / 패브릭 / 연장툴 / 거치대 / [부가] 먼지통용량: 0.42L / 알레르기인증(BAF) / 색상: 스페이스틸 / 무게: 3.22kg / 크기(가로x세로x깊이): 303x690x162mm', '133560'], ['휴스톰 HS-10000', '물걸레청소기 / 스틱형 / 회전식 / 무선형 / 충전시간: 2시간30분 / 사용시간: 30분 / 배터리: 리튬이온 / 용량: 2750mAh / LED라이트 / 가구손상방지 / 각도조절 / 셀프스탠딩 / 배터리잔량표시 / 프리볼트 / 무게: 3.7kg / 색상: 블랙 / 모터과열방지 / 과충전방지 / 오토스토핑 / 패드: 극세사(벨크로형) / 크기(가로x세로x깊이): 410x1180x205mm', '139870'], ['삼성전자 제트 VS20T9213QDCS', '핸디/스틱청소기 / 핸디+스틱형 / 무선형 / 흡입+걸레겸용 / [성능] 싸이클론 / 인버터모터 / 흡입력: 200W / 소비전력: 550W / [배터리] 리튬이온 / 충전시간: 3시간30분 / 사용시간: 1시간 / [필터] 헤파필터 / 5단계여과 / [기능] 디스플레이표시창 / 프리볼트 / [구성품] 바닥 / 솔형 / 틈새 / 거치대 / [부가] 먼지통용량: 0.5L / 알레르기인증(BAF) / 미세먼지인증(SLG) / 색상: 티탄+그레이 / 무게: 2.64kg / 크기(가로x세로x깊이): 250x1123x215mm / [VCA-SAE90A] 청정스테이션 / 색상: 블랙 / 크기(가로x세로x깊이): 185x600x180mm', '631810'], ['일렉트로룩스 PURE Q9 PQ92-3BWF', '핸디/스틱청소기 / 핸디+스틱형 / 무선형 / 흡입전용 / [성능] 싸이클론 / [배터리] 리튬이온 / 충전시간: 4시간 / 사용시간: 53분 / [필터] 5단계여과 / [기능] 셀프스탠딩 / LED라이트 / [구성품] 바닥 / 침구 / 솔형 / 더스팅 / 틈새 / 긴틈새 / 거치대 / [부가] 먼지통용량: 0.3L / 색상: 사틴화이트 / 무게: 2.89kg / 크기(가로x세로x깊이): 256x1097x155mm', '407130'], ['다이슨 V10 카본파이버', '핸디/스틱청소기 / 핸디+스틱형 / 무선형 / [성능] 싸이클론 / 흡입력: 160AW / 소비전력: 525W / [배터리] 리튬이온 / 충전시간: 3시간30분 / 사용시간: 1시간 / [구성품] 소프트롤러 / 토크드라이브 / 미니모터 / 솔형 / 더스팅 / 틈새 / 긴틈새 / 연장툴 / 도킹스테이션 / [부가] 무게: 2.5kg / 크기(가로x세로x깊이): 250x1241x256mm', '664780'], ['샤오미 드리미 V12', '핸디/스틱청소기 / 핸디+스틱형 / 무선형 / 흡입+걸레겸용 / [성능] 싸이클론 / 흡입력: 185AW / 흡입력: 27000Pa / 소비전력: 550W / [배터리] 내장형 / 용량: 3000mAh / 충전시간: 4시간 / 사용시간: 1시간30분 / [필터] 5단계여과 / [기능] 디스플레이표시창 / LED라이트 / 배터리잔량표시 / [구성품] 바닥 / 물걸레 / 침구 / 솔형 / 틈새 / 연장툴 / 거치대 / [부가] 먼지통용량: 0.5L / 물통용량: 0.25L / 색상: 블랙 / 무게: 1.65kg / 크기(가로x세로): 200x1226mm', '308770'], ['다이슨 V8 카본파이버', '핸디/스틱청소기 / 핸디+스틱형 / 무선형 / [성능] 싸이클론 / 흡입력: 155W / 소비전력: 485W / [배터리] 리튬이온 / 충전시간: 5시간 / 사용시간: 40분 / [구성품] 소프트롤러 / 다이렉트드라이브 / 미니모터 / 솔형 / 더스팅 / 틈새 / 긴틈새 / 매트리스 / 연장툴 / 업탑어댑터 / 도킹스테이션 / [부가] 무게: 2.63kg / 크기(가로x세로x깊이): 250x1244x210mm', '507180'], ['일렉트로룩스 WELL Q7 WQ71-2OIB', '핸디/스틱청소기 / 핸디+스틱형 / 무선형 / 흡입전용 / [성능] 싸이클론 / [배터리] 리튬이온 / 충전시간: 4시간30분 / 사용시간: 50분 / [필터] 5단계여과 / [기능] 브러쉬자동청소 / 셀프스탠딩 / LED라이트 / 배터리잔량표시 / [구성품] 바닥 / 솔형 / 더스팅 / 틈새 / 거치대 / [부가] 먼지통용량: 0.3L / 색상: 인디고블루 / 무게: 2.8kg / 크기(가로x세로x깊이): 386x692x140mm', '200990'], ['샤오미 SWDK-D260', '물걸레청소기 / 스틱형 / 왕복식 / 무선형 / 충전시간: 3시간 / 사용시간: 50분 / 배터리: 리튬이온 / 용량: 2000mAh / 물분사 / LED라이트 / 프리볼트 / 무게: 2.4kg / 색상: 화이트 / 110V / 변환어댑터: 필요', '60290'], ['다이슨 V11 컴플리트', '핸디/스틱청소기 / 핸디+스틱형 / 무선형 / [성능] 싸이클론 / 흡입력: 185AW / 소비전력: 545W / [배터리] 충전시간: 4시간30분 / 사용시간: 1시간 / [기능] 디스플레이표시창 / [구성품] 하이토크 / 소프트롤러 / 미니모터 / 솔형 / 더스팅 / 스터번더트 / 틈새 / 매트리스 / 거치대 / 도킹스테이션 / [부가] 먼지통용량: 0.54L / 색상: 니켈블루 / 무게: 2.95kg / 크기(가로x세로x깊이): 250x1280x261mm', '888560'], ['LG전자 코드제로 ThinQ A9S A9570', '핸디/스틱청소기 / 핸디+스틱형 / 무선형 / 흡입+걸레겸용 / [성능] 2중터보싸이클론 / 인버터모터 / 흡입력: 200W / 소비전력: 590W / [배터리] 분리형 / 리튬이온 (2개) / 충전시간: 4시간 / 사용시간: 2시간 / [필터] 헤파필터 / H13급 / 5단계여과 / [기능] 자동물공급 / 디스플레이표시창 / 배터리잔량표시 / WiFi / [구성품] 바닥 / 물걸레 / 침구 / 솔형 / 굳은먼지 / 틈새 / 매트리스 / 거치대 / [부가] 미세먼지인증(SLG) / 색상: 아이언그레이 / 크기(가로x세로x깊이): 250x1120x260mm', '913500'], ['샤오미 SHUNZAO 차량용 무선청소기 2세대 Z1 (해외구매)', '차량용청소기 / 무선 / 흡입력: 7,000Pa / 최대출력: 90W / 2중필터 / 추가노즐: 틈새, 솔브러쉬 / LED라이트 / 사용시간: 30분 / 충전방식: USB C타입 / 충전시간: 2시간30분 / 크기: 73x76x336mm / 무게: 700g', '22900']]\n"
     ]
    }
   ],
   "source": [
    "prod_data = []\n",
    "\n",
    "for prod_item in prod_items:\n",
    "    try: # ① 상품명 가져오기\n",
    "        title = prod_item.select('p.prod_name > a')[0].text.strip()\n",
    "    except:\n",
    "        title = ''\n",
    "    try: # ② 스펙 목록 가져오기\n",
    "        spec_list = prod_item.select('div.spec_list')[0].text.strip()\n",
    "    except:\n",
    "        spec_list = ''\n",
    "    try: # ③ 가격 정보 가져오기 \n",
    "        price = prod_item.select('li.rank_one > p.price_sect > a > strong')[0].text.strip().replace(\",\",\"\")\n",
    "    except:\n",
    "        price = 0\n",
    "    prod_data.append([title, spec_list, price])\n",
    "    \n",
    "print(len(prod_data))\n",
    "print(prod_data)"
   ]
  },
  {
   "cell_type": "code",
   "execution_count": 17,
   "metadata": {},
   "outputs": [
    {
     "name": "stdout",
     "output_type": "stream",
     "text": [
      "41\n"
     ]
    }
   ],
   "source": [
    "def get_prod_items(prod_items):\n",
    "    prod_data = []\n",
    "    \n",
    "    for prod_item in prod_items:\n",
    "        # ① 상품명 가져오기\n",
    "        try:\n",
    "            title = prod_item.select('p.prod_name > a')[0].text.strip()\n",
    "        except:\n",
    "            title = ''\n",
    "        # ② 스펙 목록 가져오기\n",
    "        try: \n",
    "            spec_list = prod_item.select('div.spec_list')[0].text.strip()\n",
    "        except:\n",
    "            spec_list = ''\n",
    "        # ③ 가격 정보 가져오기 \n",
    "        try: \n",
    "            price = int(prod_item.select('li.rank_one > p.price_sect > a > strong')[0].text.strip().replace(\",\",\"\"))\n",
    "        except:\n",
    "            price = 0\n",
    "        prod_data.append([title, spec_list, price])\n",
    "        \n",
    "    return prod_data\n",
    "\n",
    "prod_items = soup.select('div.main_prodlist > ul.product_list > li.prod_item')\n",
    "prod_data = get_prod_items(prod_items)\n",
    "print(len(prod_data))"
   ]
  },
  {
   "cell_type": "code",
   "execution_count": 18,
   "metadata": {},
   "outputs": [
    {
     "name": "stdout",
     "output_type": "stream",
     "text": [
      "http://search.danawa.com/dsearch.php?query=무선청소기&volumeType=allvs&page=1&limit=30&sort=saveDESC&list=list&boost=true&addDelivery=N&tab=goods&tab=goods\n"
     ]
    }
   ],
   "source": [
    "def get_search_page_url(keyword, page):\n",
    "    return 'http://search.danawa.com/dsearch.php?query={}&volumeType=allvs&page={}&limit=30&sort=saveDESC&list=list&boost=true&addDelivery=N&tab=goods&tab=goods'.format(keyword, page)\n",
    "\n",
    "keyword = '무선청소기'\n",
    "page = 1\n",
    "url = get_search_page_url(keyword, page)\n",
    "print(url)"
   ]
  },
  {
   "cell_type": "code",
   "execution_count": 19,
   "metadata": {},
   "outputs": [
    {
     "name": "stdout",
     "output_type": "stream",
     "text": [
      "Requirement already satisfied: tqdm in c:\\users\\kbs\\anaconda3\\lib\\site-packages (4.50.2)\n"
     ]
    }
   ],
   "source": [
    "!pip install tqdm"
   ]
  },
  {
   "cell_type": "code",
   "execution_count": 21,
   "metadata": {},
   "outputs": [
    {
     "name": "stderr",
     "output_type": "stream",
     "text": [
      "<ipython-input-21-af6f865598de>:5: TqdmDeprecationWarning: This function will be removed in tqdm==5.0.0\n",
      "Please use `tqdm.notebook.tqdm` instead of `tqdm.tqdm_notebook`\n",
      "  for page in tqdm_notebook(range(1, total_page + 1)):\n"
     ]
    },
    {
     "data": {
      "application/vnd.jupyter.widget-view+json": {
       "model_id": "8796ff537ae04173bc2da327c86bd2a3",
       "version_major": 2,
       "version_minor": 0
      },
      "text/plain": [
       "HBox(children=(HTML(value=''), FloatProgress(value=0.0, max=10.0), HTML(value='')))"
      ]
     },
     "metadata": {},
     "output_type": "display_data"
    },
    {
     "name": "stdout",
     "output_type": "stream",
     "text": [
      "\n"
     ]
    }
   ],
   "source": [
    "import time\n",
    "from tqdm import tqdm_notebook\n",
    "\n",
    "total_page = 10\n",
    "for page in tqdm_notebook(range(1, total_page + 1)):\n",
    "    time.sleep(5)"
   ]
  },
  {
   "cell_type": "code",
   "execution_count": 22,
   "metadata": {},
   "outputs": [
    {
     "name": "stderr",
     "output_type": "stream",
     "text": [
      "<ipython-input-22-3f402f301f43>:13: TqdmDeprecationWarning: This function will be removed in tqdm==5.0.0\n",
      "Please use `tqdm.notebook.tqdm` instead of `tqdm.tqdm_notebook`\n",
      "  for page in tqdm_notebook(range(1, total_page + 1)):\n"
     ]
    },
    {
     "data": {
      "application/vnd.jupyter.widget-view+json": {
       "model_id": "0b200b5e7a8e46248bf4b8cbaaedd037",
       "version_major": 2,
       "version_minor": 0
      },
      "text/plain": [
       "HBox(children=(HTML(value=''), FloatProgress(value=0.0, max=10.0), HTML(value='')))"
      ]
     },
     "metadata": {},
     "output_type": "display_data"
    },
    {
     "name": "stdout",
     "output_type": "stream",
     "text": [
      "\n"
     ]
    }
   ],
   "source": [
    "from selenium import webdriver\n",
    "import time\n",
    "from bs4 import BeautifulSoup\n",
    "from tqdm import tqdm_notebook\n",
    "\n",
    "driver = webdriver.Chrome('c:\\chrome\\chromedriver.exe')\n",
    "driver.implicitly_wait(3)\n",
    "\n",
    "keyword = '무선청소기'\n",
    "total_page = 10\n",
    "prod_data_total = []\n",
    "\n",
    "for page in tqdm_notebook(range(1, total_page + 1)):\n",
    "    url = get_search_page_url(keyword, page)\n",
    "    driver.get(url)\n",
    "    time.sleep(5)\n",
    "    \n",
    "    html = driver.page_source\n",
    "    soup = BeautifulSoup(html, 'html.parser')\n",
    "    \n",
    "    prod_items = soup.select('div#productListArea > div.main_prodlist > ul.product_list > li.prod_item')\n",
    "    prod_item_list = get_prod_items(prod_items)\n",
    "    \n",
    "    prod_data_total = prod_data_total + prod_item_list"
   ]
  },
  {
   "cell_type": "code",
   "execution_count": 23,
   "metadata": {},
   "outputs": [],
   "source": [
    "import pandas as pd\n",
    "data = pd.DataFrame(prod_data_total)\n",
    "data.columns = ['상품명', '스펙 목록', '가격']\n",
    "data.to_excel('./files/danawa_crawling_result.xlsx', index = False)"
   ]
  },
  {
   "cell_type": "code",
   "execution_count": 35,
   "metadata": {},
   "outputs": [
    {
     "name": "stdout",
     "output_type": "stream",
     "text": [
      "<class 'pandas.core.frame.DataFrame'>\n",
      "RangeIndex: 396 entries, 0 to 395\n",
      "Data columns (total 3 columns):\n",
      " #   Column  Non-Null Count  Dtype \n",
      "---  ------  --------------  ----- \n",
      " 0   상품명     396 non-null    object\n",
      " 1   스펙 목록   396 non-null    object\n",
      " 2   가격      396 non-null    int64 \n",
      "dtypes: int64(1), object(2)\n",
      "memory usage: 9.4+ KB\n"
     ]
    },
    {
     "data": {
      "text/html": [
       "<div>\n",
       "<style scoped>\n",
       "    .dataframe tbody tr th:only-of-type {\n",
       "        vertical-align: middle;\n",
       "    }\n",
       "\n",
       "    .dataframe tbody tr th {\n",
       "        vertical-align: top;\n",
       "    }\n",
       "\n",
       "    .dataframe thead th {\n",
       "        text-align: right;\n",
       "    }\n",
       "</style>\n",
       "<table border=\"1\" class=\"dataframe\">\n",
       "  <thead>\n",
       "    <tr style=\"text-align: right;\">\n",
       "      <th></th>\n",
       "      <th>상품명</th>\n",
       "      <th>스펙 목록</th>\n",
       "      <th>가격</th>\n",
       "    </tr>\n",
       "  </thead>\n",
       "  <tbody>\n",
       "    <tr>\n",
       "      <th>0</th>\n",
       "      <td>LG전자 오브제컬렉션 코드제로 ThinQ A9S AO9571</td>\n",
       "      <td>핸디/스틱청소기 / 핸디+스틱형 / 무선형 / 흡입+걸레겸용 / [성능] 2중터보싸...</td>\n",
       "      <td>1403950</td>\n",
       "    </tr>\n",
       "    <tr>\n",
       "      <th>1</th>\n",
       "      <td>샤오미 미지아 차량용 핸디 무선 청소기 (해외구매)</td>\n",
       "      <td>차량용청소기 / 무선 / 흡입력: 13,000Pa / 최대출력: 120W / 헤파필...</td>\n",
       "      <td>33580</td>\n",
       "    </tr>\n",
       "    <tr>\n",
       "      <th>2</th>\n",
       "      <td>LG전자 코드제로 ThinQ A9S A9700</td>\n",
       "      <td>핸디/스틱청소기 / 핸디+스틱형 / 무선형 / 흡입+걸레겸용 / [성능] 2중터보싸...</td>\n",
       "      <td>946150</td>\n",
       "    </tr>\n",
       "    <tr>\n",
       "      <th>3</th>\n",
       "      <td>샤오미 CLEANFLY 차량용 무선 청소기 3세대 (해외구매)</td>\n",
       "      <td>차량용청소기 / 무선 / 흡입력: 16,800Pa / 최대출력: 120W / 헤파필...</td>\n",
       "      <td>49900</td>\n",
       "    </tr>\n",
       "    <tr>\n",
       "      <th>4</th>\n",
       "      <td>LG전자 코드제로 A9 A9100S</td>\n",
       "      <td>핸디/스틱청소기 / 핸디+스틱형 / 무선형 / 흡입+걸레겸용 / [성능] 2중터보싸...</td>\n",
       "      <td>489060</td>\n",
       "    </tr>\n",
       "  </tbody>\n",
       "</table>\n",
       "</div>"
      ],
      "text/plain": [
       "                                  상품명  \\\n",
       "0   LG전자 오브제컬렉션 코드제로 ThinQ A9S AO9571   \n",
       "1        샤오미 미지아 차량용 핸디 무선 청소기 (해외구매)   \n",
       "2           LG전자 코드제로 ThinQ A9S A9700   \n",
       "3  샤오미 CLEANFLY 차량용 무선 청소기 3세대 (해외구매)   \n",
       "4                 LG전자 코드제로 A9 A9100S   \n",
       "\n",
       "                                               스펙 목록       가격  \n",
       "0  핸디/스틱청소기 / 핸디+스틱형 / 무선형 / 흡입+걸레겸용 / [성능] 2중터보싸...  1403950  \n",
       "1  차량용청소기 / 무선 / 흡입력: 13,000Pa / 최대출력: 120W / 헤파필...    33580  \n",
       "2  핸디/스틱청소기 / 핸디+스틱형 / 무선형 / 흡입+걸레겸용 / [성능] 2중터보싸...   946150  \n",
       "3  차량용청소기 / 무선 / 흡입력: 16,800Pa / 최대출력: 120W / 헤파필...    49900  \n",
       "4  핸디/스틱청소기 / 핸디+스틱형 / 무선형 / 흡입+걸레겸용 / [성능] 2중터보싸...   489060  "
      ]
     },
     "execution_count": 35,
     "metadata": {},
     "output_type": "execute_result"
    }
   ],
   "source": [
    "import pandas as pd\n",
    "data = pd.read_excel('./files/danawa_crawling_result.xlsx')\n",
    "data.info()\n",
    "data.head()"
   ]
  },
  {
   "cell_type": "code",
   "execution_count": 27,
   "metadata": {},
   "outputs": [
    {
     "data": {
      "text/plain": [
       "0          LG전자 오브제컬렉션 코드제로 ThinQ A9S AO9571\n",
       "1                                 VPctifh1Qz\n",
       "2               샤오미 미지아 차량용 핸디 무선 청소기 (해외구매)\n",
       "3                  LG전자 코드제로 ThinQ A9S A9700\n",
       "4         샤오미 CLEANFLY 차량용 무선 청소기 3세대 (해외구매)\n",
       "5                        LG전자 코드제로 A9 A9100S\n",
       "6                                샤오미 드리미 V10\n",
       "7                            다이슨 디지털 슬림 플러피+\n",
       "8    샤오미 SHUNZAO 차량용 무선청소기 2세대 Z1 PRO (해외구매)\n",
       "9                  LG전자 코드제로 ThinQ A9S A9400\n",
       "Name: 상품명, dtype: object"
      ]
     },
     "execution_count": 27,
     "metadata": {},
     "output_type": "execute_result"
    }
   ],
   "source": [
    "data['상품명'][:10]"
   ]
  },
  {
   "cell_type": "code",
   "execution_count": 29,
   "metadata": {},
   "outputs": [
    {
     "name": "stdout",
     "output_type": "stream",
     "text": [
      "['LG전자', '코드제로 A9 A9100S']\n"
     ]
    }
   ],
   "source": [
    "title = \"LG전자 코드제로 A9 A9100S\"\n",
    "info = title.split(' ', 1)\n",
    "print(info)"
   ]
  },
  {
   "cell_type": "code",
   "execution_count": 37,
   "metadata": {},
   "outputs": [
    {
     "name": "stdout",
     "output_type": "stream",
     "text": [
      "396\n",
      "396\n",
      "['LG전자', '샤오미', 'LG전자', '샤오미', 'LG전자']\n",
      "396\n",
      "['오브제컬렉션 코드제로 ThinQ A9S AO9571', '미지아 차량용 핸디 무선 청소기 (해외구매)', '코드제로 ThinQ A9S A9700', 'CLEANFLY 차량용 무선 청소기 3세대 (해외구매)', '코드제로 A9 A9100S']\n"
     ]
    }
   ],
   "source": [
    "company_list = []\n",
    "product_list = []\n",
    "for title in data['상품명']:\n",
    "    title_info = title.split(' ', 1)\n",
    "    company_name = title_info[0]\n",
    "    product_name = title_info[1]\n",
    "    company_list.append(company_name)\n",
    "    product_list.append(product_name)\n",
    "    \n",
    "print(len(data))\n",
    "print(len(company_list))\n",
    "print(company_list[:5])\n",
    "print(len(product_list))\n",
    "print(product_list[:5])"
   ]
  },
  {
   "cell_type": "code",
   "execution_count": 39,
   "metadata": {},
   "outputs": [
    {
     "data": {
      "text/plain": [
       "'핸디/스틱청소기 / 핸디+스틱형 / 무선형 / 흡입+걸레겸용 / [성능] 2중터보싸이클론 / 스마트인버터모터 / 흡입력: 210W / 소비전력: 590W / [배터리] 분리형 / 리튬이온 (2개) / 충전시간: 4시간 / 사용시간: 2시간 / [필터] 헤파필터 / 5단계여과 / [기능] 자동물공급 / 배터리잔량표시 / WiFi / [구성품] 바닥 / 물걸레 / 침구 / 솔형 / 틈새 / 거치대 / [부가] 알레르기인증(BAF) / 미세먼지인증(SLG) / 색상: 카밍베이지 / 크기(가로x세로x깊이): 250x1120x260mm'"
      ]
     },
     "execution_count": 39,
     "metadata": {},
     "output_type": "execute_result"
    }
   ],
   "source": [
    "data['스펙 목록'][0]"
   ]
  },
  {
   "cell_type": "code",
   "execution_count": 41,
   "metadata": {},
   "outputs": [
    {
     "name": "stdout",
     "output_type": "stream",
     "text": [
      "['핸디/스틱청소기', '핸디+스틱형', '무선형', '흡입+걸레겸용', '[성능] 2중터보싸이클론', '스마트인버터모터', '흡입력: 210W', '소비전력: 590W', '[배터리] 분리형', '리튬이온 (2개)', '충전시간: 4시간', '사용시간: 2시간', '[필터] 헤파필터', '5단계여과', '[기능] 자동물공급', '배터리잔량표시', 'WiFi', '[구성품] 바닥', '물걸레', '침구', '솔형', '틈새', '거치대', '[부가] 알레르기인증(BAF)', '미세먼지인증(SLG)', '색상: 카밍베이지', '크기(가로x세로x깊이): 250x1120x260mm']\n"
     ]
    }
   ],
   "source": [
    "print(data['스펙 목록'][0].split(' / '))"
   ]
  },
  {
   "cell_type": "code",
   "execution_count": 43,
   "metadata": {},
   "outputs": [
    {
     "data": {
      "text/plain": [
       "['핸디/스틱청소기',\n",
       " '핸디+스틱형',\n",
       " '무선형',\n",
       " '흡입+걸레겸용',\n",
       " '[성능] 2중터보싸이클론',\n",
       " '스마트인버터모터',\n",
       " '흡입력: 210W',\n",
       " '소비전력: 590W',\n",
       " '[배터리] 분리형',\n",
       " '리튬이온 (2개)',\n",
       " '충전시간: 4시간',\n",
       " '사용시간: 2시간',\n",
       " '[필터] 헤파필터',\n",
       " '5단계여과',\n",
       " '[기능] 자동물공급',\n",
       " '배터리잔량표시',\n",
       " 'WiFi',\n",
       " '[구성품] 바닥',\n",
       " '물걸레',\n",
       " '침구',\n",
       " '솔형',\n",
       " '틈새',\n",
       " '거치대',\n",
       " '[부가] 알레르기인증(BAF)',\n",
       " '미세먼지인증(SLG)',\n",
       " '색상: 카밍베이지',\n",
       " '크기(가로x세로x깊이): 250x1120x260mm']"
      ]
     },
     "execution_count": 43,
     "metadata": {},
     "output_type": "execute_result"
    }
   ],
   "source": [
    "spec_list = data['스펙 목록'][0].split(' / ')\n",
    "spec_list"
   ]
  },
  {
   "cell_type": "code",
   "execution_count": 45,
   "metadata": {},
   "outputs": [
    {
     "data": {
      "text/plain": [
       "'핸디/스틱청소기'"
      ]
     },
     "execution_count": 45,
     "metadata": {},
     "output_type": "execute_result"
    }
   ],
   "source": [
    "category = spec_list[0]\n",
    "category"
   ]
  },
  {
   "cell_type": "code",
   "execution_count": 47,
   "metadata": {},
   "outputs": [
    {
     "name": "stdout",
     "output_type": "stream",
     "text": [
      "사용시간: 2시간\n",
      "흡입력: 210W\n"
     ]
    }
   ],
   "source": [
    "for spec in spec_list:\n",
    "    if '사용시간' in spec:\n",
    "        use_time_spec = spec\n",
    "    elif '흡입력' in spec:\n",
    "        suction_spec = spec\n",
    "        \n",
    "print(use_time_spec)\n",
    "print(suction_spec)"
   ]
  },
  {
   "cell_type": "code",
   "execution_count": 49,
   "metadata": {},
   "outputs": [
    {
     "name": "stdout",
     "output_type": "stream",
     "text": [
      "2시간\n",
      "210W\n"
     ]
    }
   ],
   "source": [
    "use_time_value = use_time_spec.split(' ')[1].strip()\n",
    "suction_value = suction_spec.split(' ')[1].strip()\n",
    "\n",
    "print(use_time_value)\n",
    "print(suction_value)"
   ]
  },
  {
   "cell_type": "code",
   "execution_count": 70,
   "metadata": {},
   "outputs": [
    {
     "name": "stdout",
     "output_type": "stream",
     "text": [
      "카테고리 396 ['핸디/스틱청소기', '차량용청소기', '핸디/스틱청소기', '차량용청소기', '핸디/스틱청소기']\n",
      "사용시간 396 ['2시간', '9~30분', '2시간', '25분', '40분']\n",
      "흡입력 396 ['210W', '13,000Pa', '200W', '16,800Pa', None]\n"
     ]
    }
   ],
   "source": [
    "category_list = []\n",
    "use_time_list = []\n",
    "suction_list = [] \n",
    "\n",
    "for spec_data in data['스펙 목록']:\n",
    "    # ' / ' 기준으로 스펙 분리하기 \n",
    "    spec_list = spec_data.split(' / ')\n",
    "    \n",
    "    # 카테고리 추출하기\n",
    "    category = spec_list[0] \n",
    "    category_list.append(category)\n",
    "    \n",
    "    # 사용시간, 흡입력 추출 \n",
    "    ## 사용시간, 흡입력 정보가 없는 제품을 위해 변수를 생성 \n",
    "    use_time_value = None \n",
    "    suction_value = None \n",
    "    \n",
    "    ## spec_list의 각 원소에서 사용시간, 흡입력 수치 추출\n",
    "    for spec in spec_list:\n",
    "        if '사용시간' in spec: \n",
    "            use_time_value = spec.split(' ')[1].strip()             \n",
    "        if '흡입력' in spec:\n",
    "            suction_value = spec.split(' ')[1].strip() \n",
    "    use_time_list.append(use_time_value)\n",
    "    suction_list.append(suction_value)\n",
    "    \n",
    "print(\"카테고리\", len(category_list), category_list[0:5])\n",
    "print(\"사용시간\", len(use_time_list), use_time_list[0:5])\n",
    "print(\"흡입력\", len(suction_list), suction_list[0:5])"
   ]
  },
  {
   "cell_type": "code",
   "execution_count": 58,
   "metadata": {},
   "outputs": [
    {
     "data": {
      "text/plain": [
       "['2시간',\n",
       " '9~30분',\n",
       " '2시간',\n",
       " '25분',\n",
       " '40분',\n",
       " '1시간',\n",
       " '40분',\n",
       " '30분',\n",
       " '2시간',\n",
       " '40분',\n",
       " '20분',\n",
       " '1시간',\n",
       " '1시간',\n",
       " '1시간',\n",
       " '45분',\n",
       " '2시간',\n",
       " '15분',\n",
       " '1시간40분',\n",
       " '18분',\n",
       " '15~30분',\n",
       " '1시간30분',\n",
       " '1시간',\n",
       " '30분',\n",
       " '60분',\n",
       " '2시간',\n",
       " '1시간',\n",
       " '1시간',\n",
       " '2시간',\n",
       " '42분',\n",
       " '30분',\n",
       " '1시간',\n",
       " '53분',\n",
       " '1시간',\n",
       " '1시간30분',\n",
       " '40분',\n",
       " '50분',\n",
       " '50분',\n",
       " '1시간',\n",
       " '2시간',\n",
       " '30분',\n",
       " '40분',\n",
       " '18분',\n",
       " '1시간',\n",
       " '40분',\n",
       " '2시간',\n",
       " '48분',\n",
       " '2시간',\n",
       " '1시간',\n",
       " '1시간',\n",
       " '1시간',\n",
       " '50분',\n",
       " '1시간',\n",
       " '45분',\n",
       " '50분',\n",
       " '1시간',\n",
       " '30분',\n",
       " '2시간',\n",
       " '1시간',\n",
       " '1시간',\n",
       " '53분',\n",
       " '80분',\n",
       " '60분',\n",
       " '48분',\n",
       " '2시간',\n",
       " '50분',\n",
       " None,\n",
       " '50분',\n",
       " '13분',\n",
       " '25분',\n",
       " '80분',\n",
       " '2시간',\n",
       " None,\n",
       " '1시간',\n",
       " '40분',\n",
       " '1시간20분',\n",
       " '50분',\n",
       " '2시간',\n",
       " '30분',\n",
       " '2시간',\n",
       " '40분',\n",
       " '40분(강),',\n",
       " '30분',\n",
       " None,\n",
       " '40분',\n",
       " '1시간20분',\n",
       " '40분',\n",
       " '30분',\n",
       " '20분',\n",
       " '1시간',\n",
       " '20분',\n",
       " '45분',\n",
       " '80분',\n",
       " '40분',\n",
       " '40분',\n",
       " '30분',\n",
       " '120분',\n",
       " '1시간',\n",
       " '30분',\n",
       " '40분',\n",
       " '40분',\n",
       " '50분',\n",
       " '80분',\n",
       " '30분',\n",
       " '60분',\n",
       " '80분',\n",
       " '1시간',\n",
       " '80분',\n",
       " '35분',\n",
       " '40분',\n",
       " '40분',\n",
       " '35분',\n",
       " '45분',\n",
       " '20~30분',\n",
       " '40분',\n",
       " '40분',\n",
       " '40분',\n",
       " None,\n",
       " '40분',\n",
       " '40분',\n",
       " '40분',\n",
       " '1시간',\n",
       " '40분',\n",
       " '20분',\n",
       " '30분',\n",
       " '2시간',\n",
       " '40분',\n",
       " '80분',\n",
       " '1시간',\n",
       " '35분',\n",
       " '7분',\n",
       " '17분',\n",
       " '20분',\n",
       " '2시간',\n",
       " '30분',\n",
       " None,\n",
       " '80분',\n",
       " None,\n",
       " '23분',\n",
       " '24분',\n",
       " '60분',\n",
       " '40분',\n",
       " '15분',\n",
       " '40분',\n",
       " '2시간',\n",
       " '15~28분',\n",
       " '20분',\n",
       " '20분',\n",
       " '10분',\n",
       " '1시간',\n",
       " '1시간20분',\n",
       " '50분',\n",
       " '2시간',\n",
       " '40분',\n",
       " '30분',\n",
       " '30분',\n",
       " '1시간30분',\n",
       " '48분',\n",
       " '48분',\n",
       " '1시간6분',\n",
       " '20분',\n",
       " '48분',\n",
       " '1시간',\n",
       " None,\n",
       " '1시간40분',\n",
       " '42분',\n",
       " '20분',\n",
       " '15분',\n",
       " '2시간',\n",
       " '40분',\n",
       " None,\n",
       " '1시간',\n",
       " '1시간30분',\n",
       " '35분',\n",
       " '40분',\n",
       " '1시간50분',\n",
       " None,\n",
       " '12분',\n",
       " None,\n",
       " '30분',\n",
       " None,\n",
       " '30분',\n",
       " '2시간',\n",
       " '35분',\n",
       " '5시간',\n",
       " '40분',\n",
       " '1시간',\n",
       " '25분',\n",
       " '4시간',\n",
       " '30분',\n",
       " '20분',\n",
       " '1시간30분',\n",
       " '40분',\n",
       " '55분',\n",
       " '50분',\n",
       " '8분',\n",
       " '1시간',\n",
       " '22분',\n",
       " '55분',\n",
       " '40분',\n",
       " '30분',\n",
       " '사용시간:',\n",
       " '30분',\n",
       " '12분',\n",
       " '25분',\n",
       " '50분',\n",
       " '30분',\n",
       " '23분',\n",
       " '1시간10분',\n",
       " '1시간10분',\n",
       " '15분',\n",
       " '25분',\n",
       " '40분',\n",
       " '20분',\n",
       " '35분',\n",
       " '1시간',\n",
       " '28분',\n",
       " '25분',\n",
       " '30분',\n",
       " '2시간',\n",
       " '35분',\n",
       " '18분',\n",
       " '1시간',\n",
       " '5~10분',\n",
       " '20분',\n",
       " '35분',\n",
       " '1시간30분',\n",
       " '3시간',\n",
       " '24분',\n",
       " '48분',\n",
       " '20분',\n",
       " '15분',\n",
       " '1시간30분',\n",
       " '45분',\n",
       " '20~28분',\n",
       " '50분',\n",
       " '30분',\n",
       " '30분',\n",
       " '25분',\n",
       " '40분',\n",
       " '50분',\n",
       " '55분',\n",
       " '15분',\n",
       " '48분',\n",
       " '30분',\n",
       " None,\n",
       " None,\n",
       " '45분',\n",
       " '25분',\n",
       " '40분',\n",
       " '55분',\n",
       " '53분',\n",
       " '1시간10분',\n",
       " '35분',\n",
       " '40분',\n",
       " '30분',\n",
       " '1시간',\n",
       " '2시간30분',\n",
       " '24분',\n",
       " '40분',\n",
       " '15분',\n",
       " '25분',\n",
       " '1시간',\n",
       " '40분',\n",
       " '18분',\n",
       " '50분',\n",
       " '30분',\n",
       " '40분',\n",
       " None,\n",
       " '11분',\n",
       " '1시간',\n",
       " '12분',\n",
       " '48분',\n",
       " '30분',\n",
       " '120분',\n",
       " None,\n",
       " '50분',\n",
       " '30분',\n",
       " '1시간',\n",
       " '30분',\n",
       " '45분',\n",
       " '35분',\n",
       " '1시간',\n",
       " '120분',\n",
       " '30분',\n",
       " '50분',\n",
       " '48분',\n",
       " '35분',\n",
       " '1시간',\n",
       " None,\n",
       " '30분',\n",
       " None,\n",
       " '40분',\n",
       " '1시간',\n",
       " None,\n",
       " '2시간',\n",
       " '20분',\n",
       " '사용시간:',\n",
       " '25분',\n",
       " '5.0Ah:',\n",
       " '15분',\n",
       " '25분',\n",
       " '30분',\n",
       " '12분',\n",
       " '50분',\n",
       " '30분',\n",
       " '28분',\n",
       " '25분',\n",
       " '1시간',\n",
       " '30분',\n",
       " '50분',\n",
       " '9분',\n",
       " '1시간',\n",
       " '18분',\n",
       " '25분',\n",
       " None,\n",
       " '1시간',\n",
       " '15분',\n",
       " '12분',\n",
       " '30분',\n",
       " '물걸레:',\n",
       " '40분',\n",
       " '사용시간:',\n",
       " '15분',\n",
       " '30분',\n",
       " '25분',\n",
       " '30분',\n",
       " '22분',\n",
       " '40분',\n",
       " '30분',\n",
       " '1시간30분',\n",
       " '14분',\n",
       " '30분',\n",
       " '10~15분',\n",
       " '60분',\n",
       " '2시간',\n",
       " '25분',\n",
       " '2시간',\n",
       " '15분',\n",
       " '1시간30분~2시간',\n",
       " '40분',\n",
       " '20분',\n",
       " None,\n",
       " '20분',\n",
       " '30분',\n",
       " None,\n",
       " '30분',\n",
       " '45분',\n",
       " '2시간',\n",
       " '40분',\n",
       " '16분',\n",
       " '30분',\n",
       " '48분',\n",
       " '45분',\n",
       " '20분',\n",
       " '48분',\n",
       " None,\n",
       " '15분',\n",
       " '5~10분',\n",
       " '1시간',\n",
       " '30분',\n",
       " '30분',\n",
       " '10분',\n",
       " '30분',\n",
       " '2시간',\n",
       " '30분',\n",
       " '2시간',\n",
       " '12분',\n",
       " None,\n",
       " '30분',\n",
       " '40분',\n",
       " '30분',\n",
       " None,\n",
       " '40분',\n",
       " '30분',\n",
       " '35분',\n",
       " '25분',\n",
       " '30분',\n",
       " '16분',\n",
       " '35분',\n",
       " '55분',\n",
       " '25분',\n",
       " '1시간20분',\n",
       " '1시간',\n",
       " None,\n",
       " '사용시간:',\n",
       " None,\n",
       " '사용시간:',\n",
       " None,\n",
       " '1시간30분',\n",
       " '20분',\n",
       " '80분',\n",
       " '35분',\n",
       " None,\n",
       " '1시간',\n",
       " None,\n",
       " '10분']"
      ]
     },
     "execution_count": 58,
     "metadata": {},
     "output_type": "execute_result"
    }
   ],
   "source": [
    "use_time_list"
   ]
  },
  {
   "cell_type": "code",
   "execution_count": 60,
   "metadata": {},
   "outputs": [
    {
     "name": "stdout",
     "output_type": "stream",
     "text": [
      "40분 = 40\n",
      "4분 = 4\n",
      "1시간 = 60\n",
      "3시간30분 = 210\n",
      "4시간 = 240\n"
     ]
    }
   ],
   "source": [
    "def convert_time_minute(time):\n",
    "    try:\n",
    "        if '시간' in time:\n",
    "            hour = time.split('시간')[0]\n",
    "            if '분' in time:\n",
    "                minute = time.split('시간')[-1].split('분')[0]\n",
    "            else:\n",
    "                minute = 0\n",
    "        else:\n",
    "            hour = 0\n",
    "            minute = time.split('분')[0]\n",
    "        return int(hour)*60 + int(minute)\n",
    "    except:\n",
    "        return None\n",
    "\n",
    "times = [\"40분\", \"4분\", \"1시간\", \"3시간30분\", \"4시간\"]\n",
    "for time in times:\n",
    "    time_value = convert_time_minute(time)\n",
    "    print(time, \"=\", time_value)"
   ]
  },
  {
   "cell_type": "code",
   "execution_count": 62,
   "metadata": {},
   "outputs": [
    {
     "name": "stdout",
     "output_type": "stream",
     "text": [
      "396\n",
      "[120, None, 120, 25, 40, 60, 40, 30, 120, 40]\n"
     ]
    }
   ],
   "source": [
    "new_use_time_list = []\n",
    "for time in use_time_list:\n",
    "    value = convert_time_minute(time)\n",
    "    new_use_time_list.append(value)\n",
    "    \n",
    "print(len(new_use_time_list))\n",
    "print(new_use_time_list[0:10])"
   ]
  },
  {
   "cell_type": "code",
   "execution_count": 64,
   "metadata": {},
   "outputs": [
    {
     "name": "stdout",
     "output_type": "stream",
     "text": [
      "100W 100\n",
      "10AW 10\n",
      "10,000Pa 100.0\n"
     ]
    }
   ],
   "source": [
    "def get_suction(value):\n",
    "    try:\n",
    "        value = value.upper()\n",
    "        if \"AW\" in value or \"W\" in value:\n",
    "            result = value.replace(\"A\", \"\").replace(\"W\", \"\")\n",
    "            result = int(result.replace(\",\",\"\"))\n",
    "        elif \"PA\" in value:\n",
    "            result = value.replace(\"PA\", \"\")\n",
    "            result = int(result.replace(\",\",\"\"))/100\n",
    "        else:\n",
    "            result = None\n",
    "        return result\n",
    "    except:\n",
    "        return None\n",
    "    \n",
    "suction_lists = [\"100W\", \"10AW\", \"10,000Pa\"]\n",
    "for power in suction_lists:\n",
    "    value = get_suction(power)\n",
    "    print(power, value)"
   ]
  },
  {
   "cell_type": "code",
   "execution_count": 71,
   "metadata": {},
   "outputs": [
    {
     "name": "stdout",
     "output_type": "stream",
     "text": [
      "396\n",
      "[210, 130.0, 200, 168.0, None, 220.0, 100, 120.0, 200, 150]\n"
     ]
    }
   ],
   "source": [
    "new_suction_list = []\n",
    "for power in suction_list:\n",
    "    value = get_suction(power)\n",
    "    new_suction_list.append(value)\n",
    "    \n",
    "print(len(new_suction_list))\n",
    "print(new_suction_list[:10])"
   ]
  },
  {
   "cell_type": "code",
   "execution_count": 73,
   "metadata": {},
   "outputs": [
    {
     "data": {
      "text/html": [
       "<div>\n",
       "<style scoped>\n",
       "    .dataframe tbody tr th:only-of-type {\n",
       "        vertical-align: middle;\n",
       "    }\n",
       "\n",
       "    .dataframe tbody tr th {\n",
       "        vertical-align: top;\n",
       "    }\n",
       "\n",
       "    .dataframe thead th {\n",
       "        text-align: right;\n",
       "    }\n",
       "</style>\n",
       "<table border=\"1\" class=\"dataframe\">\n",
       "  <thead>\n",
       "    <tr style=\"text-align: right;\">\n",
       "      <th></th>\n",
       "      <th>카테고리</th>\n",
       "      <th>회사명</th>\n",
       "      <th>제품</th>\n",
       "      <th>가격</th>\n",
       "      <th>사용시간</th>\n",
       "      <th>흡입력</th>\n",
       "    </tr>\n",
       "  </thead>\n",
       "  <tbody>\n",
       "    <tr>\n",
       "      <th>0</th>\n",
       "      <td>핸디/스틱청소기</td>\n",
       "      <td>LG전자</td>\n",
       "      <td>오브제컬렉션 코드제로 ThinQ A9S AO9571</td>\n",
       "      <td>1403950</td>\n",
       "      <td>120.0</td>\n",
       "      <td>210.0</td>\n",
       "    </tr>\n",
       "    <tr>\n",
       "      <th>1</th>\n",
       "      <td>차량용청소기</td>\n",
       "      <td>샤오미</td>\n",
       "      <td>미지아 차량용 핸디 무선 청소기 (해외구매)</td>\n",
       "      <td>33580</td>\n",
       "      <td>NaN</td>\n",
       "      <td>130.0</td>\n",
       "    </tr>\n",
       "    <tr>\n",
       "      <th>2</th>\n",
       "      <td>핸디/스틱청소기</td>\n",
       "      <td>LG전자</td>\n",
       "      <td>코드제로 ThinQ A9S A9700</td>\n",
       "      <td>946150</td>\n",
       "      <td>120.0</td>\n",
       "      <td>200.0</td>\n",
       "    </tr>\n",
       "    <tr>\n",
       "      <th>3</th>\n",
       "      <td>차량용청소기</td>\n",
       "      <td>샤오미</td>\n",
       "      <td>CLEANFLY 차량용 무선 청소기 3세대 (해외구매)</td>\n",
       "      <td>49900</td>\n",
       "      <td>25.0</td>\n",
       "      <td>168.0</td>\n",
       "    </tr>\n",
       "    <tr>\n",
       "      <th>4</th>\n",
       "      <td>핸디/스틱청소기</td>\n",
       "      <td>LG전자</td>\n",
       "      <td>코드제로 A9 A9100S</td>\n",
       "      <td>489060</td>\n",
       "      <td>40.0</td>\n",
       "      <td>NaN</td>\n",
       "    </tr>\n",
       "  </tbody>\n",
       "</table>\n",
       "</div>"
      ],
      "text/plain": [
       "       카테고리   회사명                              제품       가격   사용시간    흡입력\n",
       "0  핸디/스틱청소기  LG전자    오브제컬렉션 코드제로 ThinQ A9S AO9571  1403950  120.0  210.0\n",
       "1    차량용청소기   샤오미        미지아 차량용 핸디 무선 청소기 (해외구매)    33580    NaN  130.0\n",
       "2  핸디/스틱청소기  LG전자            코드제로 ThinQ A9S A9700   946150  120.0  200.0\n",
       "3    차량용청소기   샤오미  CLEANFLY 차량용 무선 청소기 3세대 (해외구매)    49900   25.0  168.0\n",
       "4  핸디/스틱청소기  LG전자                  코드제로 A9 A9100S   489060   40.0    NaN"
      ]
     },
     "execution_count": 73,
     "metadata": {},
     "output_type": "execute_result"
    }
   ],
   "source": [
    "pd_data = pd.DataFrame()\n",
    "pd_data['카테고리'] = category_list\n",
    "pd_data['회사명'] = company_list\n",
    "pd_data['제품'] = product_list\n",
    "pd_data['가격'] = data['가격']\n",
    "pd_data['사용시간'] = new_use_time_list\n",
    "pd_data['흡입력'] = new_suction_list\n",
    "pd_data.head()"
   ]
  },
  {
   "cell_type": "code",
   "execution_count": 75,
   "metadata": {},
   "outputs": [
    {
     "data": {
      "text/plain": [
       "핸디/스틱청소기           287\n",
       "물걸레청소기              39\n",
       "차량용청소기              39\n",
       "욕실청소기               10\n",
       "업소용청소기              10\n",
       "침구청소기                5\n",
       "진공청소기                2\n",
       "로봇청소기                2\n",
       "핸디/스틱청소기+로봇청소기       1\n",
       "핸디/스틱청소기+물걸레청소기      1\n",
       "Name: 카테고리, dtype: int64"
      ]
     },
     "execution_count": 75,
     "metadata": {},
     "output_type": "execute_result"
    }
   ],
   "source": [
    "pd_data['카테고리'].value_counts()"
   ]
  },
  {
   "cell_type": "code",
   "execution_count": 78,
   "metadata": {},
   "outputs": [
    {
     "data": {
      "text/plain": [
       "287"
      ]
     },
     "execution_count": 78,
     "metadata": {},
     "output_type": "execute_result"
    }
   ],
   "source": [
    "pd_data_final = pd_data[pd_data['카테고리'].isin(['핸디/스틱청소기'])]\n",
    "len(pd_data_final)"
   ]
  },
  {
   "cell_type": "code",
   "execution_count": 80,
   "metadata": {},
   "outputs": [],
   "source": [
    "pd_data_final.to_excel('./files/danawa_data_final.xlsx', index = False)"
   ]
  },
  {
   "cell_type": "code",
   "execution_count": 82,
   "metadata": {},
   "outputs": [
    {
     "data": {
      "text/html": [
       "<div>\n",
       "<style scoped>\n",
       "    .dataframe tbody tr th:only-of-type {\n",
       "        vertical-align: middle;\n",
       "    }\n",
       "\n",
       "    .dataframe tbody tr th {\n",
       "        vertical-align: top;\n",
       "    }\n",
       "\n",
       "    .dataframe thead th {\n",
       "        text-align: right;\n",
       "    }\n",
       "</style>\n",
       "<table border=\"1\" class=\"dataframe\">\n",
       "  <thead>\n",
       "    <tr style=\"text-align: right;\">\n",
       "      <th></th>\n",
       "      <th>카테고리</th>\n",
       "      <th>회사명</th>\n",
       "      <th>제품</th>\n",
       "      <th>가격</th>\n",
       "      <th>사용시간</th>\n",
       "      <th>흡입력</th>\n",
       "    </tr>\n",
       "  </thead>\n",
       "  <tbody>\n",
       "    <tr>\n",
       "      <th>0</th>\n",
       "      <td>핸디/스틱청소기</td>\n",
       "      <td>LG전자</td>\n",
       "      <td>오브제컬렉션 코드제로 ThinQ A9S AO9571</td>\n",
       "      <td>1403950</td>\n",
       "      <td>120.0</td>\n",
       "      <td>210.0</td>\n",
       "    </tr>\n",
       "    <tr>\n",
       "      <th>1</th>\n",
       "      <td>핸디/스틱청소기</td>\n",
       "      <td>LG전자</td>\n",
       "      <td>코드제로 ThinQ A9S A9700</td>\n",
       "      <td>946150</td>\n",
       "      <td>120.0</td>\n",
       "      <td>200.0</td>\n",
       "    </tr>\n",
       "    <tr>\n",
       "      <th>2</th>\n",
       "      <td>핸디/스틱청소기</td>\n",
       "      <td>LG전자</td>\n",
       "      <td>코드제로 A9 A9100S</td>\n",
       "      <td>489060</td>\n",
       "      <td>40.0</td>\n",
       "      <td>NaN</td>\n",
       "    </tr>\n",
       "    <tr>\n",
       "      <th>3</th>\n",
       "      <td>핸디/스틱청소기</td>\n",
       "      <td>샤오미</td>\n",
       "      <td>드리미 V10</td>\n",
       "      <td>146700</td>\n",
       "      <td>60.0</td>\n",
       "      <td>220.0</td>\n",
       "    </tr>\n",
       "    <tr>\n",
       "      <th>4</th>\n",
       "      <td>핸디/스틱청소기</td>\n",
       "      <td>다이슨</td>\n",
       "      <td>디지털 슬림 플러피+</td>\n",
       "      <td>693000</td>\n",
       "      <td>40.0</td>\n",
       "      <td>100.0</td>\n",
       "    </tr>\n",
       "  </tbody>\n",
       "</table>\n",
       "</div>"
      ],
      "text/plain": [
       "       카테고리   회사명                            제품       가격   사용시간    흡입력\n",
       "0  핸디/스틱청소기  LG전자  오브제컬렉션 코드제로 ThinQ A9S AO9571  1403950  120.0  210.0\n",
       "1  핸디/스틱청소기  LG전자          코드제로 ThinQ A9S A9700   946150  120.0  200.0\n",
       "2  핸디/스틱청소기  LG전자                코드제로 A9 A9100S   489060   40.0    NaN\n",
       "3  핸디/스틱청소기   샤오미                       드리미 V10   146700   60.0  220.0\n",
       "4  핸디/스틱청소기   다이슨                   디지털 슬림 플러피+   693000   40.0  100.0"
      ]
     },
     "execution_count": 82,
     "metadata": {},
     "output_type": "execute_result"
    }
   ],
   "source": [
    "import pandas as pd\n",
    "danawa_data = pd.read_excel('./files/danawa_data_final.xlsx')\n",
    "danawa_data.head()"
   ]
  },
  {
   "cell_type": "code",
   "execution_count": 84,
   "metadata": {},
   "outputs": [
    {
     "data": {
      "text/html": [
       "<div>\n",
       "<style scoped>\n",
       "    .dataframe tbody tr th:only-of-type {\n",
       "        vertical-align: middle;\n",
       "    }\n",
       "\n",
       "    .dataframe tbody tr th {\n",
       "        vertical-align: top;\n",
       "    }\n",
       "\n",
       "    .dataframe thead th {\n",
       "        text-align: right;\n",
       "    }\n",
       "</style>\n",
       "<table border=\"1\" class=\"dataframe\">\n",
       "  <thead>\n",
       "    <tr style=\"text-align: right;\">\n",
       "      <th></th>\n",
       "      <th>카테고리</th>\n",
       "      <th>회사명</th>\n",
       "      <th>제품</th>\n",
       "      <th>가격</th>\n",
       "      <th>사용시간</th>\n",
       "      <th>흡입력</th>\n",
       "    </tr>\n",
       "  </thead>\n",
       "  <tbody>\n",
       "    <tr>\n",
       "      <th>142</th>\n",
       "      <td>핸디/스틱청소기</td>\n",
       "      <td>리하스</td>\n",
       "      <td>LH20</td>\n",
       "      <td>299000</td>\n",
       "      <td>120.0</td>\n",
       "      <td>330.0</td>\n",
       "    </tr>\n",
       "    <tr>\n",
       "      <th>207</th>\n",
       "      <td>핸디/스틱청소기</td>\n",
       "      <td>퍼피유</td>\n",
       "      <td>T12R</td>\n",
       "      <td>293020</td>\n",
       "      <td>60.0</td>\n",
       "      <td>290.0</td>\n",
       "    </tr>\n",
       "    <tr>\n",
       "      <th>167</th>\n",
       "      <td>핸디/스틱청소기</td>\n",
       "      <td>캐치웰</td>\n",
       "      <td>NEW F8</td>\n",
       "      <td>199000</td>\n",
       "      <td>25.0</td>\n",
       "      <td>290.0</td>\n",
       "    </tr>\n",
       "    <tr>\n",
       "      <th>24</th>\n",
       "      <td>핸디/스틱청소기</td>\n",
       "      <td>샤오미</td>\n",
       "      <td>드리미 V12</td>\n",
       "      <td>308770</td>\n",
       "      <td>90.0</td>\n",
       "      <td>270.0</td>\n",
       "    </tr>\n",
       "    <tr>\n",
       "      <th>43</th>\n",
       "      <td>핸디/스틱청소기</td>\n",
       "      <td>샤오미</td>\n",
       "      <td>SHUNZAO Z11 PRO</td>\n",
       "      <td>194830</td>\n",
       "      <td>60.0</td>\n",
       "      <td>260.0</td>\n",
       "    </tr>\n",
       "  </tbody>\n",
       "</table>\n",
       "</div>"
      ],
      "text/plain": [
       "         카테고리  회사명               제품      가격   사용시간    흡입력\n",
       "142  핸디/스틱청소기  리하스             LH20  299000  120.0  330.0\n",
       "207  핸디/스틱청소기  퍼피유             T12R  293020   60.0  290.0\n",
       "167  핸디/스틱청소기  캐치웰           NEW F8  199000   25.0  290.0\n",
       "24   핸디/스틱청소기  샤오미          드리미 V12  308770   90.0  270.0\n",
       "43   핸디/스틱청소기  샤오미  SHUNZAO Z11 PRO  194830   60.0  260.0"
      ]
     },
     "execution_count": 84,
     "metadata": {},
     "output_type": "execute_result"
    }
   ],
   "source": [
    "top_list = danawa_data.sort_values([\"흡입력\"], ascending = False)\n",
    "top_list.head()"
   ]
  },
  {
   "cell_type": "code",
   "execution_count": 86,
   "metadata": {},
   "outputs": [
    {
     "data": {
      "text/html": [
       "<div>\n",
       "<style scoped>\n",
       "    .dataframe tbody tr th:only-of-type {\n",
       "        vertical-align: middle;\n",
       "    }\n",
       "\n",
       "    .dataframe tbody tr th {\n",
       "        vertical-align: top;\n",
       "    }\n",
       "\n",
       "    .dataframe thead th {\n",
       "        text-align: right;\n",
       "    }\n",
       "</style>\n",
       "<table border=\"1\" class=\"dataframe\">\n",
       "  <thead>\n",
       "    <tr style=\"text-align: right;\">\n",
       "      <th></th>\n",
       "      <th>카테고리</th>\n",
       "      <th>회사명</th>\n",
       "      <th>제품</th>\n",
       "      <th>가격</th>\n",
       "      <th>사용시간</th>\n",
       "      <th>흡입력</th>\n",
       "    </tr>\n",
       "  </thead>\n",
       "  <tbody>\n",
       "    <tr>\n",
       "      <th>0</th>\n",
       "      <td>핸디/스틱청소기</td>\n",
       "      <td>LG전자</td>\n",
       "      <td>오브제컬렉션 코드제로 ThinQ A9S AO9571</td>\n",
       "      <td>1403950</td>\n",
       "      <td>120.0</td>\n",
       "      <td>210.0</td>\n",
       "    </tr>\n",
       "    <tr>\n",
       "      <th>28</th>\n",
       "      <td>핸디/스틱청소기</td>\n",
       "      <td>LG전자</td>\n",
       "      <td>코드제로 ThinQ A9S A9570</td>\n",
       "      <td>913500</td>\n",
       "      <td>120.0</td>\n",
       "      <td>200.0</td>\n",
       "    </tr>\n",
       "    <tr>\n",
       "      <th>34</th>\n",
       "      <td>핸디/스틱청소기</td>\n",
       "      <td>삼성전자</td>\n",
       "      <td>제트 VS20T9257SDCS</td>\n",
       "      <td>742900</td>\n",
       "      <td>120.0</td>\n",
       "      <td>200.0</td>\n",
       "    </tr>\n",
       "    <tr>\n",
       "      <th>42</th>\n",
       "      <td>핸디/스틱청소기</td>\n",
       "      <td>LG전자</td>\n",
       "      <td>코드제로 ThinQ A9S 펫 A9700BPK</td>\n",
       "      <td>962450</td>\n",
       "      <td>120.0</td>\n",
       "      <td>200.0</td>\n",
       "    </tr>\n",
       "    <tr>\n",
       "      <th>48</th>\n",
       "      <td>핸디/스틱청소기</td>\n",
       "      <td>삼성전자</td>\n",
       "      <td>제트 VS20R9078S2</td>\n",
       "      <td>708270</td>\n",
       "      <td>120.0</td>\n",
       "      <td>200.0</td>\n",
       "    </tr>\n",
       "  </tbody>\n",
       "</table>\n",
       "</div>"
      ],
      "text/plain": [
       "        카테고리   회사명                            제품       가격   사용시간    흡입력\n",
       "0   핸디/스틱청소기  LG전자  오브제컬렉션 코드제로 ThinQ A9S AO9571  1403950  120.0  210.0\n",
       "28  핸디/스틱청소기  LG전자          코드제로 ThinQ A9S A9570   913500  120.0  200.0\n",
       "34  핸디/스틱청소기  삼성전자              제트 VS20T9257SDCS   742900  120.0  200.0\n",
       "42  핸디/스틱청소기  LG전자     코드제로 ThinQ A9S 펫 A9700BPK   962450  120.0  200.0\n",
       "48  핸디/스틱청소기  삼성전자                제트 VS20R9078S2   708270  120.0  200.0"
      ]
     },
     "execution_count": 86,
     "metadata": {},
     "output_type": "execute_result"
    }
   ],
   "source": [
    "top_list = danawa_data.sort_values([\"사용시간\"], ascending = False)\n",
    "top_list.head()"
   ]
  },
  {
   "cell_type": "code",
   "execution_count": 88,
   "metadata": {},
   "outputs": [
    {
     "data": {
      "text/html": [
       "<div>\n",
       "<style scoped>\n",
       "    .dataframe tbody tr th:only-of-type {\n",
       "        vertical-align: middle;\n",
       "    }\n",
       "\n",
       "    .dataframe tbody tr th {\n",
       "        vertical-align: top;\n",
       "    }\n",
       "\n",
       "    .dataframe thead th {\n",
       "        text-align: right;\n",
       "    }\n",
       "</style>\n",
       "<table border=\"1\" class=\"dataframe\">\n",
       "  <thead>\n",
       "    <tr style=\"text-align: right;\">\n",
       "      <th></th>\n",
       "      <th>카테고리</th>\n",
       "      <th>회사명</th>\n",
       "      <th>제품</th>\n",
       "      <th>가격</th>\n",
       "      <th>사용시간</th>\n",
       "      <th>흡입력</th>\n",
       "    </tr>\n",
       "  </thead>\n",
       "  <tbody>\n",
       "    <tr>\n",
       "      <th>142</th>\n",
       "      <td>핸디/스틱청소기</td>\n",
       "      <td>리하스</td>\n",
       "      <td>LH20</td>\n",
       "      <td>299000</td>\n",
       "      <td>120.0</td>\n",
       "      <td>330.0</td>\n",
       "    </tr>\n",
       "    <tr>\n",
       "      <th>0</th>\n",
       "      <td>핸디/스틱청소기</td>\n",
       "      <td>LG전자</td>\n",
       "      <td>오브제컬렉션 코드제로 ThinQ A9S AO9571</td>\n",
       "      <td>1403950</td>\n",
       "      <td>120.0</td>\n",
       "      <td>210.0</td>\n",
       "    </tr>\n",
       "    <tr>\n",
       "      <th>1</th>\n",
       "      <td>핸디/스틱청소기</td>\n",
       "      <td>LG전자</td>\n",
       "      <td>코드제로 ThinQ A9S A9700</td>\n",
       "      <td>946150</td>\n",
       "      <td>120.0</td>\n",
       "      <td>200.0</td>\n",
       "    </tr>\n",
       "    <tr>\n",
       "      <th>5</th>\n",
       "      <td>핸디/스틱청소기</td>\n",
       "      <td>LG전자</td>\n",
       "      <td>코드제로 ThinQ A9S A9400</td>\n",
       "      <td>682100</td>\n",
       "      <td>120.0</td>\n",
       "      <td>200.0</td>\n",
       "    </tr>\n",
       "    <tr>\n",
       "      <th>12</th>\n",
       "      <td>핸디/스틱청소기</td>\n",
       "      <td>삼성전자</td>\n",
       "      <td>제트 VS20T9258SDCS</td>\n",
       "      <td>899000</td>\n",
       "      <td>120.0</td>\n",
       "      <td>200.0</td>\n",
       "    </tr>\n",
       "  </tbody>\n",
       "</table>\n",
       "</div>"
      ],
      "text/plain": [
       "         카테고리   회사명                            제품       가격   사용시간    흡입력\n",
       "142  핸디/스틱청소기   리하스                          LH20   299000  120.0  330.0\n",
       "0    핸디/스틱청소기  LG전자  오브제컬렉션 코드제로 ThinQ A9S AO9571  1403950  120.0  210.0\n",
       "1    핸디/스틱청소기  LG전자          코드제로 ThinQ A9S A9700   946150  120.0  200.0\n",
       "5    핸디/스틱청소기  LG전자          코드제로 ThinQ A9S A9400   682100  120.0  200.0\n",
       "12   핸디/스틱청소기  삼성전자              제트 VS20T9258SDCS   899000  120.0  200.0"
      ]
     },
     "execution_count": 88,
     "metadata": {},
     "output_type": "execute_result"
    }
   ],
   "source": [
    "top_list = danawa_data.sort_values([\"사용시간\", \"흡입력\"], ascending = False)\n",
    "top_list.head()"
   ]
  },
  {
   "cell_type": "code",
   "execution_count": 90,
   "metadata": {},
   "outputs": [
    {
     "name": "stdout",
     "output_type": "stream",
     "text": [
      "가격 평균값 401215.4494773519\n",
      "흡입력 평균값 175.24242424242425\n",
      "사용시간 평균값 50.749049429657795\n"
     ]
    }
   ],
   "source": [
    "price_mean_value = danawa_data['가격'].mean()\n",
    "suction_mean_value = danawa_data['흡입력'].mean()\n",
    "use_time_mean_value = danawa_data['사용시간'].mean()\n",
    "print(\"가격 평균값\", price_mean_value)\n",
    "print(\"흡입력 평균값\", suction_mean_value)\n",
    "print(\"사용시간 평균값\", use_time_mean_value)"
   ]
  },
  {
   "cell_type": "code",
   "execution_count": 93,
   "metadata": {},
   "outputs": [
    {
     "data": {
      "text/html": [
       "<div>\n",
       "<style scoped>\n",
       "    .dataframe tbody tr th:only-of-type {\n",
       "        vertical-align: middle;\n",
       "    }\n",
       "\n",
       "    .dataframe tbody tr th {\n",
       "        vertical-align: top;\n",
       "    }\n",
       "\n",
       "    .dataframe thead th {\n",
       "        text-align: right;\n",
       "    }\n",
       "</style>\n",
       "<table border=\"1\" class=\"dataframe\">\n",
       "  <thead>\n",
       "    <tr style=\"text-align: right;\">\n",
       "      <th></th>\n",
       "      <th>카테고리</th>\n",
       "      <th>회사명</th>\n",
       "      <th>제품</th>\n",
       "      <th>가격</th>\n",
       "      <th>사용시간</th>\n",
       "      <th>흡입력</th>\n",
       "    </tr>\n",
       "  </thead>\n",
       "  <tbody>\n",
       "    <tr>\n",
       "      <th>3</th>\n",
       "      <td>핸디/스틱청소기</td>\n",
       "      <td>샤오미</td>\n",
       "      <td>드리미 V10</td>\n",
       "      <td>146700</td>\n",
       "      <td>60.0</td>\n",
       "      <td>220.0</td>\n",
       "    </tr>\n",
       "    <tr>\n",
       "      <th>13</th>\n",
       "      <td>핸디/스틱청소기</td>\n",
       "      <td>샤오미</td>\n",
       "      <td>드리미 V11</td>\n",
       "      <td>257210</td>\n",
       "      <td>90.0</td>\n",
       "      <td>250.0</td>\n",
       "    </tr>\n",
       "    <tr>\n",
       "      <th>15</th>\n",
       "      <td>핸디/스틱청소기</td>\n",
       "      <td>샤오미</td>\n",
       "      <td>드리미 V9</td>\n",
       "      <td>111250</td>\n",
       "      <td>60.0</td>\n",
       "      <td>200.0</td>\n",
       "    </tr>\n",
       "    <tr>\n",
       "      <th>24</th>\n",
       "      <td>핸디/스틱청소기</td>\n",
       "      <td>샤오미</td>\n",
       "      <td>드리미 V12</td>\n",
       "      <td>308770</td>\n",
       "      <td>90.0</td>\n",
       "      <td>270.0</td>\n",
       "    </tr>\n",
       "    <tr>\n",
       "      <th>41</th>\n",
       "      <td>핸디/스틱청소기</td>\n",
       "      <td>샤오미</td>\n",
       "      <td>SHUNZAO Z11</td>\n",
       "      <td>159000</td>\n",
       "      <td>60.0</td>\n",
       "      <td>260.0</td>\n",
       "    </tr>\n",
       "    <tr>\n",
       "      <th>43</th>\n",
       "      <td>핸디/스틱청소기</td>\n",
       "      <td>샤오미</td>\n",
       "      <td>SHUNZAO Z11 PRO</td>\n",
       "      <td>194830</td>\n",
       "      <td>60.0</td>\n",
       "      <td>260.0</td>\n",
       "    </tr>\n",
       "    <tr>\n",
       "      <th>54</th>\n",
       "      <td>핸디/스틱청소기</td>\n",
       "      <td>샤오미</td>\n",
       "      <td>드리미 V10P</td>\n",
       "      <td>233850</td>\n",
       "      <td>60.0</td>\n",
       "      <td>220.0</td>\n",
       "    </tr>\n",
       "    <tr>\n",
       "      <th>98</th>\n",
       "      <td>핸디/스틱청소기</td>\n",
       "      <td>로이드미</td>\n",
       "      <td>제로</td>\n",
       "      <td>221040</td>\n",
       "      <td>60.0</td>\n",
       "      <td>220.0</td>\n",
       "    </tr>\n",
       "    <tr>\n",
       "      <th>142</th>\n",
       "      <td>핸디/스틱청소기</td>\n",
       "      <td>리하스</td>\n",
       "      <td>LH20</td>\n",
       "      <td>299000</td>\n",
       "      <td>120.0</td>\n",
       "      <td>330.0</td>\n",
       "    </tr>\n",
       "    <tr>\n",
       "      <th>151</th>\n",
       "      <td>핸디/스틱청소기</td>\n",
       "      <td>샤오미</td>\n",
       "      <td>드리미 V10 프로</td>\n",
       "      <td>192280</td>\n",
       "      <td>60.0</td>\n",
       "      <td>220.0</td>\n",
       "    </tr>\n",
       "    <tr>\n",
       "      <th>160</th>\n",
       "      <td>핸디/스틱청소기</td>\n",
       "      <td>샤오미</td>\n",
       "      <td>드리미 T20</td>\n",
       "      <td>359050</td>\n",
       "      <td>70.0</td>\n",
       "      <td>250.0</td>\n",
       "    </tr>\n",
       "    <tr>\n",
       "      <th>161</th>\n",
       "      <td>핸디/스틱청소기</td>\n",
       "      <td>델로라</td>\n",
       "      <td>V11 파워 300W</td>\n",
       "      <td>119000</td>\n",
       "      <td>70.0</td>\n",
       "      <td>220.0</td>\n",
       "    </tr>\n",
       "    <tr>\n",
       "      <th>170</th>\n",
       "      <td>핸디/스틱청소기</td>\n",
       "      <td>캐치웰</td>\n",
       "      <td>코드엑스</td>\n",
       "      <td>199000</td>\n",
       "      <td>60.0</td>\n",
       "      <td>220.0</td>\n",
       "    </tr>\n",
       "    <tr>\n",
       "      <th>202</th>\n",
       "      <td>핸디/스틱청소기</td>\n",
       "      <td>샤오미</td>\n",
       "      <td>VIOMI A9 V-HWVC12A</td>\n",
       "      <td>243570</td>\n",
       "      <td>60.0</td>\n",
       "      <td>230.0</td>\n",
       "    </tr>\n",
       "    <tr>\n",
       "      <th>207</th>\n",
       "      <td>핸디/스틱청소기</td>\n",
       "      <td>퍼피유</td>\n",
       "      <td>T12R</td>\n",
       "      <td>293020</td>\n",
       "      <td>60.0</td>\n",
       "      <td>290.0</td>\n",
       "    </tr>\n",
       "    <tr>\n",
       "      <th>210</th>\n",
       "      <td>핸디/스틱청소기</td>\n",
       "      <td>보아르</td>\n",
       "      <td>포스 B25</td>\n",
       "      <td>206370</td>\n",
       "      <td>60.0</td>\n",
       "      <td>250.0</td>\n",
       "    </tr>\n",
       "    <tr>\n",
       "      <th>229</th>\n",
       "      <td>핸디/스틱청소기</td>\n",
       "      <td>샤오미</td>\n",
       "      <td>드리미 V9P</td>\n",
       "      <td>162490</td>\n",
       "      <td>60.0</td>\n",
       "      <td>200.0</td>\n",
       "    </tr>\n",
       "    <tr>\n",
       "      <th>240</th>\n",
       "      <td>핸디/스틱청소기</td>\n",
       "      <td>캐치웰</td>\n",
       "      <td>CX11</td>\n",
       "      <td>154900</td>\n",
       "      <td>60.0</td>\n",
       "      <td>200.0</td>\n",
       "    </tr>\n",
       "    <tr>\n",
       "      <th>277</th>\n",
       "      <td>핸디/스틱청소기</td>\n",
       "      <td>샤오미</td>\n",
       "      <td>미지아 1C SCWXCQ02ZHM</td>\n",
       "      <td>164590</td>\n",
       "      <td>60.0</td>\n",
       "      <td>200.0</td>\n",
       "    </tr>\n",
       "  </tbody>\n",
       "</table>\n",
       "</div>"
      ],
      "text/plain": [
       "         카테고리   회사명                  제품      가격   사용시간    흡입력\n",
       "3    핸디/스틱청소기   샤오미             드리미 V10  146700   60.0  220.0\n",
       "13   핸디/스틱청소기   샤오미             드리미 V11  257210   90.0  250.0\n",
       "15   핸디/스틱청소기   샤오미              드리미 V9  111250   60.0  200.0\n",
       "24   핸디/스틱청소기   샤오미             드리미 V12  308770   90.0  270.0\n",
       "41   핸디/스틱청소기   샤오미         SHUNZAO Z11  159000   60.0  260.0\n",
       "43   핸디/스틱청소기   샤오미     SHUNZAO Z11 PRO  194830   60.0  260.0\n",
       "54   핸디/스틱청소기   샤오미            드리미 V10P  233850   60.0  220.0\n",
       "98   핸디/스틱청소기  로이드미                  제로  221040   60.0  220.0\n",
       "142  핸디/스틱청소기   리하스                LH20  299000  120.0  330.0\n",
       "151  핸디/스틱청소기   샤오미          드리미 V10 프로  192280   60.0  220.0\n",
       "160  핸디/스틱청소기   샤오미             드리미 T20  359050   70.0  250.0\n",
       "161  핸디/스틱청소기   델로라         V11 파워 300W  119000   70.0  220.0\n",
       "170  핸디/스틱청소기   캐치웰                코드엑스  199000   60.0  220.0\n",
       "202  핸디/스틱청소기   샤오미  VIOMI A9 V-HWVC12A  243570   60.0  230.0\n",
       "207  핸디/스틱청소기   퍼피유                T12R  293020   60.0  290.0\n",
       "210  핸디/스틱청소기   보아르              포스 B25  206370   60.0  250.0\n",
       "229  핸디/스틱청소기   샤오미             드리미 V9P  162490   60.0  200.0\n",
       "240  핸디/스틱청소기   캐치웰                CX11  154900   60.0  200.0\n",
       "277  핸디/스틱청소기   샤오미  미지아 1C SCWXCQ02ZHM  164590   60.0  200.0"
      ]
     },
     "execution_count": 93,
     "metadata": {},
     "output_type": "execute_result"
    }
   ],
   "source": [
    "condition_data = danawa_data [\n",
    "    (danawa_data['가격'] <= price_mean_value) & (danawa_data['흡입력'] >= suction_mean_value) & (danawa_data['사용시간'] >= use_time_mean_value)\n",
    "]\n",
    "condition_data"
   ]
  },
  {
   "cell_type": "code",
   "execution_count": 94,
   "metadata": {},
   "outputs": [],
   "source": [
    "from matplotlib import font_manager, rc\n",
    "import matplotlib.pyplot as plt\n",
    "import seaborn as sns\n",
    "import platform \n",
    "\n",
    "# 그래프에서 한글 표기를 위한 글꼴 변경(윈도우, macOS에 대해 처리)\n",
    "font_path = ''\n",
    "if platform.system() == 'Windows': \n",
    "    font_path = 'c:/Windows/Fonts/malgun.ttf'\n",
    "    font_name = font_manager.FontProperties(fname = font_path).get_name()\n",
    "    rc('font', family = font_name)\n",
    "elif platform.system() == 'Darwin':\n",
    "    font_path = '/Users/$USER/Library/Fonts/AppleGothic.ttf'\n",
    "    rc('font', family = 'AppleGothic')\n",
    "else: \n",
    "    print('Check your OS system')\n",
    "    \n",
    "%matplotlib inline"
   ]
  },
  {
   "cell_type": "code",
   "execution_count": 96,
   "metadata": {},
   "outputs": [
    {
     "data": {
      "text/plain": [
       "160"
      ]
     },
     "execution_count": 96,
     "metadata": {},
     "output_type": "execute_result"
    }
   ],
   "source": [
    "# 없는 데이터 행지우기\n",
    "chart_data = danawa_data.dropna(axis = 0)\n",
    "len(chart_data)"
   ]
  },
  {
   "cell_type": "code",
   "execution_count": 98,
   "metadata": {},
   "outputs": [],
   "source": [
    "suction_max_value = chart_data['흡입력'].max()\n",
    "suction_mean_value = chart_data['흡입력'].mean()\n",
    "use_time_max_value = chart_data['사용시간'].max()\n",
    "use_time_mean_value = chart_data['사용시간'].mean()\n"
   ]
  },
  {
   "cell_type": "code",
   "execution_count": 100,
   "metadata": {},
   "outputs": [
    {
     "data": {
      "image/png": "[encoded data removed]",
      "text/plain": [
       "<Figure size 1440x720 with 1 Axes>"
      ]
     },
     "metadata": {
      "needs_background": "light"
     },
     "output_type": "display_data"
    }
   ],
   "source": [
    "plt.figure(figsize=(20, 10))\n",
    "plt.title(\"무선 핸디/스틱청소기 차트\")\n",
    "sns.scatterplot(x = '흡입력', y = '사용시간', size = '가격', hue = chart_data['회사명'], \n",
    "             data = chart_data, sizes = (10, 1000), legend = False)\n",
    "\n",
    "plt.plot([0, suction_max_value], \n",
    "          [use_time_mean_value, use_time_mean_value], \n",
    "          'r--', \n",
    "          lw = 1 )\n",
    "\n",
    "plt.plot([suction_mean_value, suction_mean_value], \n",
    "          [0, use_time_max_value], \n",
    "          'r--', \n",
    "          lw = 1 )\n",
    "\n",
    "\n",
    "plt.show()"
   ]
  },
  {
   "cell_type": "code",
   "execution_count": 102,
   "metadata": {},
   "outputs": [
    {
     "data": {
      "text/plain": [
       "20"
      ]
     },
     "execution_count": 102,
     "metadata": {},
     "output_type": "execute_result"
    }
   ],
   "source": [
    "chart_data_selected = chart_data[:20]\n",
    "len(chart_data_selected)"
   ]
  },
  {
   "cell_type": "code",
   "execution_count": 103,
   "metadata": {},
   "outputs": [
    {
     "data": {
      "image/png": "[encoded data removed]",
      "text/plain": [
       "<Figure size 1440x720 with 1 Axes>"
      ]
     },
     "metadata": {
      "needs_background": "light"
     },
     "output_type": "display_data"
    }
   ],
   "source": [
    "suction_max_value = chart_data_selected['흡입력'].max()\n",
    "suction_mean_value = chart_data_selected['흡입력'].mean()\n",
    "use_time_max_value = chart_data_selected['사용시간'].max()\n",
    "use_time_mean_value = chart_data_selected['사용시간'].mean()\n",
    "\n",
    "plt.figure(figsize=(20, 10))\n",
    "plt.title(\"무선 핸디/스틱청소기 TOP 20\")\n",
    "sns.scatterplot(x = '흡입력', \n",
    "                  y = '사용시간', \n",
    "                  size = '가격', \n",
    "                  hue = chart_data_selected['회사명'], \n",
    "                  data = chart_data_selected, sizes = (100, 2000),\n",
    "                  legend = False)\n",
    "\n",
    "plt.plot([60, suction_max_value], \n",
    "          [use_time_mean_value, use_time_mean_value], \n",
    "          'r--', \n",
    "          lw = 1 )\n",
    "\n",
    "plt.plot([suction_mean_value, suction_mean_value], \n",
    "          [20, use_time_max_value], \n",
    "          'r--', \n",
    "          lw = 1 )\n",
    "\n",
    "\n",
    "for index, row in chart_data_selected.iterrows():\n",
    "    x = row['흡입력']\n",
    "    y = row['사용시간']\n",
    "    s = row['제품'].split(' ')[0]\n",
    "    plt.text(x, y, s, size=20)\n",
    "    \n",
    "    \n",
    "plt.show()"
   ]
  }
 ],
 "metadata": {
  "kernelspec": {
   "display_name": "Python 3",
   "language": "python",
   "name": "python3"
  },
  "language_info": {
   "codemirror_mode": {
    "name": "ipython",
    "version": 3
   },
   "file_extension": ".py",
   "mimetype": "text/x-python",
   "name": "python",
   "nbconvert_exporter": "python",
   "pygments_lexer": "ipython3",
   "version": "3.8.5"
  }
 },
 "nbformat": 4,
 "nbformat_minor": 4
}
